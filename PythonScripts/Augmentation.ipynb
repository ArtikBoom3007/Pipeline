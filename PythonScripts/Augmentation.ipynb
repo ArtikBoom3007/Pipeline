{
 "cells": [
  {
   "cell_type": "code",
   "execution_count": 42,
   "metadata": {},
   "outputs": [],
   "source": [
    "import os\n",
    "import shutil\n",
    "import numpy as np\n",
    "import soundfile as sf\n",
    "from sklearn.model_selection import train_test_split\n",
    "import scipy.io.wavfile as wav\n",
    "\n",
    "import librosa\n",
    "from pydub import AudioSegment, effects  \n",
    "from pydub.silence import split_on_silence"
   ]
  },
  {
   "cell_type": "code",
   "execution_count": 43,
   "metadata": {},
   "outputs": [],
   "source": [
    "def change_speed(audio, speed_factor=1.0):\n",
    "    return librosa.effects.time_stretch(audio, rate=speed_factor)"
   ]
  },
  {
   "cell_type": "code",
   "execution_count": 44,
   "metadata": {},
   "outputs": [],
   "source": [
    "def add_echo(audio, sr, delay=0.1, decay=0.5):\n",
    "    delay_samples = int(sr * delay)\n",
    "    echo_signal = np.zeros(len(audio) + delay_samples)\n",
    "    echo_signal[:len(audio)] += audio\n",
    "    echo_signal[delay_samples:] += decay * audio\n",
    "    return echo_signal[:len(audio)]"
   ]
  },
  {
   "cell_type": "code",
   "execution_count": 45,
   "metadata": {},
   "outputs": [],
   "source": [
    "def add_noise(audio, noise_factor=0.005):\n",
    "    noise = np.random.randn(len(audio))\n",
    "    augmented_audio = audio + noise_factor * noise\n",
    "    return augmented_audio"
   ]
  },
  {
   "cell_type": "code",
   "execution_count": 46,
   "metadata": {},
   "outputs": [],
   "source": [
    "def pitch_shift(audio, sr, n_steps=2):\n",
    "    shifted_audio = librosa.effects.pitch_shift(audio, sr=sr, n_steps=n_steps)\n",
    "    return shifted_audio"
   ]
  },
  {
   "cell_type": "code",
   "execution_count": 47,
   "metadata": {},
   "outputs": [],
   "source": [
    "def split_audio(audio, sr, fragment_length=5):\n",
    "    fragment_samples = int(sr * fragment_length)\n",
    "    return [audio[i:i + fragment_samples] for i in range(0, len(audio), fragment_samples) if len(audio[i:i + fragment_samples]) == fragment_samples]"
   ]
  },
  {
   "cell_type": "code",
   "execution_count": 48,
   "metadata": {},
   "outputs": [
    {
     "name": "stdout",
     "output_type": "stream",
     "text": [
      "d:\\Python\\Pipeline\\PythonScripts\\../Data/ReadText/PD\n"
     ]
    }
   ],
   "source": [
    "cur_dir = os.getcwd()\n",
    "pd_folder = os.path.join(cur_dir, \"../Data/ReadText/PD\")\n",
    "hc_folder = os.path.join(cur_dir, \"../Data/ReadText/HC\")\n",
    "print(pd_folder)"
   ]
  },
  {
   "cell_type": "code",
   "execution_count": 49,
   "metadata": {},
   "outputs": [],
   "source": [
    "\n",
    "def remove_silence(input_file, output_file, silence_thresh=-30, min_silence_len=700, keep_silence=500):\n",
    "    # Load the audio file\n",
    "    audio = AudioSegment.from_wav(input_file)\n",
    "\n",
    "    audio = audio.set_sample_width(2)  # 2 bytes = 16 bits\n",
    "    \n",
    "    ''' \n",
    "    We can change the attributes of file by  \n",
    "    changeed_audio_segment = audio_segment.set_ATTRIBUTENAME(x)  \n",
    "    '''\n",
    "    # wav_file_new = wav_file.set_frame_rate(50)  \n",
    "    # print(wav_file_new.frame_rate) \n",
    "\n",
    "    audio = effects.normalize(audio) \n",
    "\n",
    "    # Split the audio where silence is longer than min_silence_len and quieter than silence_thresh\n",
    "    chunks = split_on_silence(audio, \n",
    "                              min_silence_len=min_silence_len,\n",
    "                              silence_thresh=silence_thresh,\n",
    "                              keep_silence=keep_silence)\n",
    "\n",
    "    # Combine the chunks back together\n",
    "    non_silent_audio = AudioSegment.empty()\n",
    "    for chunk in chunks:\n",
    "        non_silent_audio += chunk\n",
    "\n",
    "    # Export the result\n",
    "    non_silent_audio.set_sample_width(2)\n",
    "    non_silent_audio.set_frame_rate(44100)\n",
    "\n",
    "     #  To find frame rate of song/file \n",
    "    # print(non_silent_audio.frame_rate)    \n",
    "    # # OUTPUT: 22050  \n",
    "    \n",
    "    # # To know about channels of file \n",
    "    # print(non_silent_audio.channels)  \n",
    "    # # OUTPUT: 1 \n",
    "    \n",
    "    # # Find the number of bytes per sample  \n",
    "    # print(non_silent_audio.sample_width )  \n",
    "    # # OUTPUT : 2 \n",
    "    \n",
    "    # # To know length of audio file \n",
    "    # print(len(non_silent_audio)) \n",
    "    # OUTPUT 60000  \n",
    "    non_silent_audio.export(output_file, format=\"wav\")\n",
    "\n",
    "# Example usage\n",
    "# input_file = \"../Data/out16.wav\"\n",
    "# output_file = \"../Data/output_no_silence.wav\"\n",
    "# remove_silence(input_file, output_file)"
   ]
  },
  {
   "cell_type": "code",
   "execution_count": 50,
   "metadata": {},
   "outputs": [
    {
     "name": "stdout",
     "output_type": "stream",
     "text": [
      "['ID02_pd_2_0_0 (mp3cut.net).wav', 'ID02_pd_2_0_0_S (mp3cut.net).wav', 'ID04_pd_2_0_1 (mp3cut.net).wav', 'ID04_pd_2_0_1_S (mp3cut.net).wav', 'ID06_pd_3_1_1 (mp3cut.net) (1).wav', 'ID06_pd_3_1_1_S (mp3cut.net).wav', 'ID07_pd_2_0_0 (mp3cut.net) (1).wav', 'ID07_pd_2_0_0_S (mp3cut.net).wav', 'ID13_pd_3_2_2 (mp3cut.net) (1).wav', 'ID13_pd_3_2_2_S (mp3cut.net).wav', 'ID16_pd_2_0_0 (mp3cut.net) (1).wav', 'ID16_pd_2_0_0_S (mp3cut.net).wav', 'ID17_pd_2_1_0 (mp3cut.net) (1).wav', 'ID17_pd_2_1_0_S (mp3cut.net) (1).wav', 'ID17_pd_2_1_0_S (mp3cut.net).wav', 'ID18_pd_4_3_3 (mp3cut.net) (1).wav', 'ID20_pd_3_0_1 (mp3cut.net) (1).wav', 'ID20_pd_3_0_1_S (mp3cut.net) (1).wav', 'ID20_pd_3_0_1_S (mp3cut.net).wav', 'ID24_pd_2_0_0 (mp3cut.net) (1).wav', 'ID24_pd_2_0_0_S (mp3cut.net).wav', 'ID27_pd_4_1_1 (mp3cut.net) (1).wav', 'ID27_pd_4_1_1_S (mp3cut.net) (1).wav', 'ID27_pd_4_1_1_S (mp3cut.net) (2).wav', 'ID27_pd_4_1_1_S (mp3cut.net).wav', 'ID29_pd_3_1_2 (mp3cut.net) (1).wav', 'ID29_pd_3_1_2_S (mp3cut.net).wav', 'ID30_pd_2_1_1 (mp3cut.net) (1).wav', 'ID30_pd_2_1_1_S (mp3cut.net).wav', 'ID32_pd_3_1_1 (mp3cut.net) (1).wav', 'ID32_pd_3_1_1_S (mp3cut.net).wav', 'ID33_pd_3_2_2 (mp3cut.net) (1).wav', 'ID33_pd_3_2_2_S (mp3cut.net) (1).wav', 'ID33_pd_3_2_2_S (mp3cut.net) (2).wav', 'ID33_pd_3_2_2_S (mp3cut.net).wav', 'ID34_pd_2_0_0 (mp3cut.net) (1).wav']\n",
      "['ID00_hc_0_0_0 (mp3cut.net) (1).wav', 'ID00_hc_0_0_0_S (mp3cut.net).wav', 'ID01_hc_0_0_0 (mp3cut.net) (1).wav', 'ID01_hc_0_0_0_S (mp3cut.net) (1).wav', 'ID01_hc_0_0_0_S (mp3cut.net).wav', 'ID03_hc_0_0_0 (mp3cut.net).wav', 'ID03_hc_0_0_0_S (mp3cut.net).wav', 'ID05_hc_0_0_0 (mp3cut.net).wav', 'ID05_hc_0_0_0_S (mp3cut.net).wav', 'ID08_hc_0_0_0 (mp3cut.net) (1).wav', 'ID08_hc_0_0_0_S (mp3cut.net).wav', 'ID09_hc_0_0_0 (mp3cut.net) (1).wav', 'ID09_hc_0_0_0_S (mp3cut.net).wav', 'ID10_hc_0_0_0 (mp3cut.net) (1).wav', 'ID10_hc_0_0_0_S (mp3cut.net).wav', 'ID11_hc_0_0_0 (mp3cut.net).wav', 'ID11_hc_0_0_0_S (mp3cut.net).wav', 'ID12_hc_0_0_0 (mp3cut.net).wav', 'ID12_hc_0_0_0_S (mp3cut.net).wav', 'ID14_hc_0_0_0 (mp3cut.net).wav', 'ID14_hc_0_0_0_S (mp3cut.net).wav', 'ID15_hc_0_0_0 (mp3cut.net).wav', 'ID15_hc_0_0_0_S (mp3cut.net).wav', 'ID19_hc_0_0_0 (mp3cut.net) (1).wav', 'ID19_hc_0_0_0_S (mp3cut.net).wav', 'ID21_hc_0_0_0 (mp3cut.net) (1).wav', 'ID21_hc_0_0_0_S (mp3cut.net).wav', 'ID22hc_0_0_0_S (mp3cut.net).wav', 'ID22_hc_0_0_0 (mp3cut.net) (1).wav', 'ID23_hc_0_0_0 (mp3cut.net) (1).wav', 'ID23_hc_0_0_0_S (mp3cut.net) (1).wav', 'ID23_hc_0_0_0_S (mp3cut.net).wav', 'ID25_hc_0_0_0 (mp3cut.net) (1).wav', 'ID25_hc_0_0_0_S (mp3cut.net).wav', 'ID26_hc_0_0_0 (mp3cut.net) (1).wav', 'ID26_hc_0_0_0_S (mp3cut.net).wav', 'ID28_hc_0_0_0 (mp3cut.net) (1).wav', 'ID28_hc_0_0_0_S (mp3cut.net).wav', 'ID31_hc_0_1_1 (mp3cut.net) (1).wav', 'ID31_hc_0_1_1_S (mp3cut.net).wav', 'ID35_hc_0_0_0 (mp3cut.net) (1).wav', 'ID36_hc_0_0_0 (mp3cut.net).wav', 'ID36_hc_0_0_0_S (mp3cut.net).wav']\n"
     ]
    }
   ],
   "source": [
    "PD_path = os.listdir(pd_folder)\n",
    "HC_path = os.listdir(hc_folder)\n",
    "print(PD_path)\n",
    "print(HC_path)"
   ]
  },
  {
   "cell_type": "code",
   "execution_count": 51,
   "metadata": {},
   "outputs": [],
   "source": [
    "# Разделение набора данных на тренировочные и тестовые наборы (train/test split)\n",
    "PD_train, PD_test = train_test_split(PD_path, test_size=0.2, random_state=42)\n",
    "HC_train, HC_test = train_test_split(HC_path, test_size=0.2, random_state=42)"
   ]
  },
  {
   "cell_type": "code",
   "execution_count": 52,
   "metadata": {},
   "outputs": [],
   "source": [
    "train_folder = \"../Data/Train\"\n",
    "test_folder = \"../Data/Test\"\n",
    "hc_train_folder = os.path.join(train_folder, \"HC\")\n",
    "pd_train_folder = os.path.join(train_folder, \"PD\")\n",
    "hc_test_folder = os.path.join(test_folder, \"HC\")\n",
    "pd_test_folder = os.path.join(test_folder, \"PD\")\n",
    "\n",
    "os.makedirs(hc_train_folder, exist_ok=True)\n",
    "os.makedirs(pd_train_folder, exist_ok=True)\n",
    "os.makedirs(hc_test_folder, exist_ok=True)\n",
    "os.makedirs(pd_test_folder, exist_ok=True)"
   ]
  },
  {
   "cell_type": "code",
   "execution_count": 36,
   "metadata": {},
   "outputs": [],
   "source": [
    "for file in PD_train:\n",
    "    remove_silence(\n",
    "    os.path.join(pd_folder, file), \n",
    "    os.path.join(pd_train_folder, file)\n",
    ")\n",
    "    \n",
    "for file in PD_test:\n",
    "    remove_silence(\n",
    "    os.path.join(pd_folder, file),\n",
    "    os.path.join(pd_test_folder, file)\n",
    ")\n",
    "    \n",
    "for file in HC_train:\n",
    "    remove_silence(\n",
    "    os.path.join(hc_folder, file),\n",
    "    os.path.join(hc_train_folder, file)\n",
    ")\n",
    "    \n",
    "for file in HC_test:\n",
    "    remove_silence(\n",
    "    os.path.join(hc_folder, file),\n",
    "    os.path.join(hc_test_folder, file)\n",
    ")"
   ]
  },
  {
   "cell_type": "code",
   "execution_count": 53,
   "metadata": {},
   "outputs": [],
   "source": [
    "augment_train_folder = \"../Data/Augment_audio/Train\"\n",
    "augment_test_folder = \"../Data/Augment_audio/Test\"\n",
    "hc_aug_train_folder = os.path.join(augment_train_folder, \"HC\")\n",
    "pd_aug_train_folder = os.path.join(augment_train_folder, \"PD\")\n",
    "hc_aug_test_folder = os.path.join(augment_test_folder, \"HC\")\n",
    "pd_aug_test_folder = os.path.join(augment_test_folder, \"PD\")\n",
    "\n",
    "os.makedirs(hc_aug_train_folder, exist_ok=True)\n",
    "os.makedirs(pd_aug_train_folder, exist_ok=True)\n",
    "os.makedirs(hc_aug_test_folder, exist_ok=True)\n",
    "os.makedirs(pd_aug_test_folder, exist_ok=True)"
   ]
  },
  {
   "cell_type": "code",
   "execution_count": 54,
   "metadata": {},
   "outputs": [],
   "source": [
    "noise_factors = [0.001, 0.005, 0.01]\n",
    "pitch_shifts = [-2, -1, 1, 2]\n",
    "speed_factors = [0.9, 1.1]"
   ]
  },
  {
   "cell_type": "code",
   "execution_count": 55,
   "metadata": {},
   "outputs": [],
   "source": [
    "for folder in [pd_train_folder, pd_test_folder, hc_train_folder, hc_test_folder]:\n",
    "# for folder in [pd_test_folder, hc_test_folder]:\n",
    "    for filename in os.listdir(folder):\n",
    "        if filename.endswith(\".wav\"):\n",
    "            \n",
    "            only_crop = False\n",
    "            audio_path = os.path.join(folder, filename)\n",
    "            audio, sr = librosa.load(audio_path, sr=None)\n",
    "            # sr, audio = wav.read(audio_path)\n",
    "\n",
    "           \n",
    "            if folder == pd_train_folder:\n",
    "                save_folder = pd_aug_train_folder\n",
    "            if folder == pd_test_folder:\n",
    "                save_folder = pd_aug_test_folder\n",
    "                only_crop = True\n",
    "            if folder == hc_train_folder:\n",
    "                save_folder = hc_aug_train_folder           \n",
    "            if folder == hc_test_folder:\n",
    "                save_folder = hc_aug_test_folder\n",
    "                only_crop = True\n",
    "\n",
    "            fragments = split_audio(audio, sr)\n",
    "\n",
    "            for i, fragment in enumerate(fragments):\n",
    "                fragment_filename = f\"{filename}_fragment_{i}.wav\"\n",
    "                fragment_path = os.path.join(save_folder, fragment_filename)\n",
    "                sf.write(fragment_path, fragment, sr, subtype='PCM_16')\n",
    "\n",
    "                if (not only_crop):\n",
    "                    for noise_factor in noise_factors:\n",
    "                        augmented_audio_with_noise = add_noise(fragment, noise_factor)\n",
    "                        noise_filename = f\"noise_{noise_factor}_{filename}_fragment_{i}.wav\"\n",
    "                        sf.write(os.path.join(save_folder, noise_filename), augmented_audio_with_noise, sr, subtype='PCM_16')\n",
    "\n",
    "                    for n_steps in pitch_shifts:\n",
    "                        augmented_audio_with_pitch_shift = pitch_shift(fragment, sr, n_steps)\n",
    "                        pitch_shift_filename = f\"pitch_shift_{n_steps}_{filename}_fragment_{i}.wav\"\n",
    "                        sf.write(os.path.join(save_folder, pitch_shift_filename), augmented_audio_with_pitch_shift, sr, subtype='PCM_16')\n",
    "\n",
    "                    for speed_factor in speed_factors:\n",
    "                        augmented_audio_with_speed_change = change_speed(fragment, speed_factor)\n",
    "                        speed_change_filename = f\"speed_{speed_factor}_{filename}_fragment_{i}.wav\"\n",
    "                        sf.write(os.path.join(save_folder, speed_change_filename), augmented_audio_with_speed_change, sr, subtype='PCM_16')\n",
    "\n",
    "                    augmented_audio_with_echo = add_echo(fragment, sr)\n",
    "                    echo_filename = f\"echo_{filename}_fragment_{i}.wav\"\n",
    "                    sf.write(os.path.join(save_folder, echo_filename), augmented_audio_with_echo, sr, subtype='PCM_16')"
   ]
  },
  {
   "cell_type": "code",
   "execution_count": 56,
   "metadata": {},
   "outputs": [],
   "source": [
    "num_augmented_audio = len(os.listdir(hc_aug_train_folder)) + len(os.listdir(hc_aug_test_folder)) \\\n",
    "    + len(os.listdir(pd_aug_train_folder)) + len(os.listdir(pd_aug_test_folder))"
   ]
  },
  {
   "cell_type": "code",
   "execution_count": 57,
   "metadata": {},
   "outputs": [
    {
     "name": "stdout",
     "output_type": "stream",
     "text": [
      "Количество аугментированных аудио: 10619\n"
     ]
    }
   ],
   "source": [
    "print(\"Количество аугментированных аудио:\", num_augmented_audio)"
   ]
  }
 ],
 "metadata": {
  "kernelspec": {
   "display_name": "Python 3",
   "language": "python",
   "name": "python3"
  },
  "language_info": {
   "codemirror_mode": {
    "name": "ipython",
    "version": 3
   },
   "file_extension": ".py",
   "mimetype": "text/x-python",
   "name": "python",
   "nbconvert_exporter": "python",
   "pygments_lexer": "ipython3",
   "version": "3.11.9"
  }
 },
 "nbformat": 4,
 "nbformat_minor": 2
}
