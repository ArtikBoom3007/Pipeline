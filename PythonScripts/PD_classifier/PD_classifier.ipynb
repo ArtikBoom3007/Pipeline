{
 "cells": [
  {
   "cell_type": "markdown",
   "metadata": {},
   "source": [
    "### Импорт библиотек"
   ]
  },
  {
   "cell_type": "code",
   "execution_count": 13,
   "metadata": {
    "metadata": {}
   },
   "outputs": [],
   "source": [
    "import numpy as np\n",
    "import pandas as pd\n",
    "import matplotlib.pyplot as plt\n",
    "\n",
    "from sklearn import metrics\n",
    "from sklearn.model_selection import train_test_split\n",
    "from sklearn import preprocessing\n",
    "\n",
    "from sklearn.linear_model import LogisticRegression\n",
    "from sklearn.neighbors import KNeighborsClassifier\n",
    "from sklearn.model_selection import GridSearchCV\n",
    "from sklearn.svm import SVC\n",
    "from sklearn.ensemble import RandomForestClassifier\n",
    "from sklearn import tree\n",
    "from sklearn.discriminant_analysis import LinearDiscriminantAnalysis\n",
    "from sklearn.naive_bayes import GaussianNB"
   ]
  },
  {
   "cell_type": "code",
   "execution_count": 2,
   "metadata": {
    "metadata": {}
   },
   "outputs": [],
   "source": [
    "# функция для графического представления матрицы несоответствия\n",
    "def plot_confusion_matrix(y_true, y_pred, classes, normalize = False, cmap = plt.cm.Blues):\n",
    "    \"\"\"\n",
    "    Функция выводит и строит матрицу несоответствий\n",
    "    \"\"\"\n",
    "\n",
    "    # Вычисление матрицы несоответствий\n",
    "    cm = metrics.confusion_matrix(y_true, y_pred)\n",
    "    print('Confusion matrix:\\n', cm)\n",
    "\n",
    "    if normalize:\n",
    "        cm = cm.astype('float') / cm.sum(axis=1)[:, np.newaxis]\n",
    "        title = 'Normalized confusion matrix'\n",
    "    else:\n",
    "        title = 'Confusion matrix, without normalization'\n",
    "\n",
    "    fig, ax = plt.subplots()\n",
    "    plt.title(title)\n",
    "    im = ax.imshow(cm, interpolation = 'nearest', cmap = cmap)\n",
    "    ax.figure.colorbar(im, ax = ax)\n",
    "    # We want to show all ticks...\n",
    "    ax.set(xticks = np.arange(cm.shape[1]),\n",
    "           yticks = np.arange(cm.shape[0]),\n",
    "           # ... and label them with the respective list entries\n",
    "           xticklabels = classes, yticklabels = classes,\n",
    "           ylabel = 'True label',\n",
    "           xlabel = 'Predicted label')\n",
    "\n",
    "    # Rotate the tick labels and set their alignment.\n",
    "    plt.setp(ax.get_xticklabels(), rotation = 45, ha = 'right',\n",
    "             rotation_mode = 'anchor')\n",
    "\n",
    "    # Loop over data dimensions and create text annotations.\n",
    "    fmt = '.2f'\n",
    "    thresh = cm.max() / 2.\n",
    "    for i in range(cm.shape[0]):\n",
    "        for j in range(cm.shape[1]):\n",
    "            ax.text(j, i, format(cm[i, j], fmt),\n",
    "                    ha = 'center', va = 'center',\n",
    "                    color = 'white' if cm[i, j] > thresh else 'black')\n",
    "    fig.tight_layout()\n",
    "    plt.show()\n",
    "    #return cm"
   ]
  },
  {
   "cell_type": "markdown",
   "metadata": {},
   "source": [
    "### Загрузка данных"
   ]
  },
  {
   "cell_type": "code",
   "execution_count": 6,
   "metadata": {
    "metadata": {}
   },
   "outputs": [
    {
     "data": {
      "text/html": [
       "<div>\n",
       "<style scoped>\n",
       "    .dataframe tbody tr th:only-of-type {\n",
       "        vertical-align: middle;\n",
       "    }\n",
       "\n",
       "    .dataframe tbody tr th {\n",
       "        vertical-align: top;\n",
       "    }\n",
       "\n",
       "    .dataframe thead th {\n",
       "        text-align: right;\n",
       "    }\n",
       "</style>\n",
       "<table border=\"1\" class=\"dataframe\">\n",
       "  <thead>\n",
       "    <tr style=\"text-align: right;\">\n",
       "      <th></th>\n",
       "      <th>mfcc_mean1</th>\n",
       "      <th>mfcc_mean2</th>\n",
       "      <th>mfcc_mean3</th>\n",
       "      <th>mfcc_mean4</th>\n",
       "      <th>mfcc_mean5</th>\n",
       "      <th>mfcc_mean6</th>\n",
       "      <th>mfcc_mean7</th>\n",
       "      <th>mfcc_mean8</th>\n",
       "      <th>mfcc_mean9</th>\n",
       "      <th>mfcc_mean10</th>\n",
       "      <th>...</th>\n",
       "      <th>logfbank_std20</th>\n",
       "      <th>logfbank_std21</th>\n",
       "      <th>logfbank_std22</th>\n",
       "      <th>logfbank_std23</th>\n",
       "      <th>logfbank_std24</th>\n",
       "      <th>logfbank_std25</th>\n",
       "      <th>logfbank_std26</th>\n",
       "      <th>energy</th>\n",
       "      <th>zcr</th>\n",
       "      <th>label</th>\n",
       "    </tr>\n",
       "    <tr>\n",
       "      <th>filename</th>\n",
       "      <th></th>\n",
       "      <th></th>\n",
       "      <th></th>\n",
       "      <th></th>\n",
       "      <th></th>\n",
       "      <th></th>\n",
       "      <th></th>\n",
       "      <th></th>\n",
       "      <th></th>\n",
       "      <th></th>\n",
       "      <th></th>\n",
       "      <th></th>\n",
       "      <th></th>\n",
       "      <th></th>\n",
       "      <th></th>\n",
       "      <th></th>\n",
       "      <th></th>\n",
       "      <th></th>\n",
       "      <th></th>\n",
       "      <th></th>\n",
       "      <th></th>\n",
       "    </tr>\n",
       "  </thead>\n",
       "  <tbody>\n",
       "    <tr>\n",
       "      <th>ID01_hc_0_0_0_S (mp3cut.net).wav_fragment_0.wav</th>\n",
       "      <td>15.330946</td>\n",
       "      <td>-8.740301</td>\n",
       "      <td>10.472188</td>\n",
       "      <td>3.395539</td>\n",
       "      <td>-5.162852</td>\n",
       "      <td>-6.987804</td>\n",
       "      <td>-16.375539</td>\n",
       "      <td>-1.651024</td>\n",
       "      <td>-15.645575</td>\n",
       "      <td>-9.015319</td>\n",
       "      <td>...</td>\n",
       "      <td>3.145423</td>\n",
       "      <td>3.074468</td>\n",
       "      <td>3.042502</td>\n",
       "      <td>2.496285</td>\n",
       "      <td>2.414012</td>\n",
       "      <td>2.463708</td>\n",
       "      <td>2.004587</td>\n",
       "      <td>3960.302681</td>\n",
       "      <td>0.383755</td>\n",
       "      <td>0</td>\n",
       "    </tr>\n",
       "    <tr>\n",
       "      <th>ID05_hc_0_0_0_S (mp3cut.net).wav_fragment_0.wav</th>\n",
       "      <td>15.104125</td>\n",
       "      <td>-5.829941</td>\n",
       "      <td>5.764994</td>\n",
       "      <td>-4.637445</td>\n",
       "      <td>-0.957428</td>\n",
       "      <td>2.778685</td>\n",
       "      <td>-8.635162</td>\n",
       "      <td>-7.882842</td>\n",
       "      <td>-11.950063</td>\n",
       "      <td>-18.726913</td>\n",
       "      <td>...</td>\n",
       "      <td>3.007224</td>\n",
       "      <td>2.967000</td>\n",
       "      <td>2.633646</td>\n",
       "      <td>2.030350</td>\n",
       "      <td>1.970558</td>\n",
       "      <td>2.299575</td>\n",
       "      <td>2.006747</td>\n",
       "      <td>3643.573149</td>\n",
       "      <td>0.330712</td>\n",
       "      <td>0</td>\n",
       "    </tr>\n",
       "    <tr>\n",
       "      <th>ID05_hc_0_0_0_S (mp3cut.net).wav_fragment_1.wav</th>\n",
       "      <td>16.036852</td>\n",
       "      <td>-6.188327</td>\n",
       "      <td>5.224450</td>\n",
       "      <td>-4.517371</td>\n",
       "      <td>0.280730</td>\n",
       "      <td>1.681392</td>\n",
       "      <td>-9.939149</td>\n",
       "      <td>-15.974726</td>\n",
       "      <td>-9.472397</td>\n",
       "      <td>-15.455375</td>\n",
       "      <td>...</td>\n",
       "      <td>2.557527</td>\n",
       "      <td>2.438457</td>\n",
       "      <td>2.252246</td>\n",
       "      <td>1.964424</td>\n",
       "      <td>1.843730</td>\n",
       "      <td>2.009702</td>\n",
       "      <td>1.881945</td>\n",
       "      <td>3647.488082</td>\n",
       "      <td>0.390721</td>\n",
       "      <td>0</td>\n",
       "    </tr>\n",
       "    <tr>\n",
       "      <th>ID05_hc_0_0_0_S (mp3cut.net).wav_fragment_10.wav</th>\n",
       "      <td>15.714227</td>\n",
       "      <td>-6.503480</td>\n",
       "      <td>3.803119</td>\n",
       "      <td>-9.394088</td>\n",
       "      <td>-4.173789</td>\n",
       "      <td>-1.836479</td>\n",
       "      <td>-11.457876</td>\n",
       "      <td>-4.653593</td>\n",
       "      <td>-10.288290</td>\n",
       "      <td>-12.616486</td>\n",
       "      <td>...</td>\n",
       "      <td>2.676273</td>\n",
       "      <td>2.522489</td>\n",
       "      <td>2.265982</td>\n",
       "      <td>2.163699</td>\n",
       "      <td>2.096680</td>\n",
       "      <td>2.366275</td>\n",
       "      <td>2.234393</td>\n",
       "      <td>3326.373648</td>\n",
       "      <td>0.344009</td>\n",
       "      <td>0</td>\n",
       "    </tr>\n",
       "    <tr>\n",
       "      <th>ID05_hc_0_0_0_S (mp3cut.net).wav_fragment_11.wav</th>\n",
       "      <td>15.777004</td>\n",
       "      <td>-5.328012</td>\n",
       "      <td>2.321468</td>\n",
       "      <td>-8.439441</td>\n",
       "      <td>0.069581</td>\n",
       "      <td>1.109219</td>\n",
       "      <td>-9.837759</td>\n",
       "      <td>-12.122191</td>\n",
       "      <td>-16.100706</td>\n",
       "      <td>-14.561094</td>\n",
       "      <td>...</td>\n",
       "      <td>2.755002</td>\n",
       "      <td>2.884432</td>\n",
       "      <td>2.601980</td>\n",
       "      <td>2.197466</td>\n",
       "      <td>2.242392</td>\n",
       "      <td>2.687278</td>\n",
       "      <td>2.447983</td>\n",
       "      <td>3693.493180</td>\n",
       "      <td>0.347093</td>\n",
       "      <td>0</td>\n",
       "    </tr>\n",
       "  </tbody>\n",
       "</table>\n",
       "<p>5 rows × 211 columns</p>\n",
       "</div>"
      ],
      "text/plain": [
       "                                                  mfcc_mean1  mfcc_mean2  \\\n",
       "filename                                                                   \n",
       "ID01_hc_0_0_0_S (mp3cut.net).wav_fragment_0.wav    15.330946   -8.740301   \n",
       "ID05_hc_0_0_0_S (mp3cut.net).wav_fragment_0.wav    15.104125   -5.829941   \n",
       "ID05_hc_0_0_0_S (mp3cut.net).wav_fragment_1.wav    16.036852   -6.188327   \n",
       "ID05_hc_0_0_0_S (mp3cut.net).wav_fragment_10.wav   15.714227   -6.503480   \n",
       "ID05_hc_0_0_0_S (mp3cut.net).wav_fragment_11.wav   15.777004   -5.328012   \n",
       "\n",
       "                                                  mfcc_mean3  mfcc_mean4  \\\n",
       "filename                                                                   \n",
       "ID01_hc_0_0_0_S (mp3cut.net).wav_fragment_0.wav    10.472188    3.395539   \n",
       "ID05_hc_0_0_0_S (mp3cut.net).wav_fragment_0.wav     5.764994   -4.637445   \n",
       "ID05_hc_0_0_0_S (mp3cut.net).wav_fragment_1.wav     5.224450   -4.517371   \n",
       "ID05_hc_0_0_0_S (mp3cut.net).wav_fragment_10.wav    3.803119   -9.394088   \n",
       "ID05_hc_0_0_0_S (mp3cut.net).wav_fragment_11.wav    2.321468   -8.439441   \n",
       "\n",
       "                                                  mfcc_mean5  mfcc_mean6  \\\n",
       "filename                                                                   \n",
       "ID01_hc_0_0_0_S (mp3cut.net).wav_fragment_0.wav    -5.162852   -6.987804   \n",
       "ID05_hc_0_0_0_S (mp3cut.net).wav_fragment_0.wav    -0.957428    2.778685   \n",
       "ID05_hc_0_0_0_S (mp3cut.net).wav_fragment_1.wav     0.280730    1.681392   \n",
       "ID05_hc_0_0_0_S (mp3cut.net).wav_fragment_10.wav   -4.173789   -1.836479   \n",
       "ID05_hc_0_0_0_S (mp3cut.net).wav_fragment_11.wav    0.069581    1.109219   \n",
       "\n",
       "                                                  mfcc_mean7  mfcc_mean8  \\\n",
       "filename                                                                   \n",
       "ID01_hc_0_0_0_S (mp3cut.net).wav_fragment_0.wav   -16.375539   -1.651024   \n",
       "ID05_hc_0_0_0_S (mp3cut.net).wav_fragment_0.wav    -8.635162   -7.882842   \n",
       "ID05_hc_0_0_0_S (mp3cut.net).wav_fragment_1.wav    -9.939149  -15.974726   \n",
       "ID05_hc_0_0_0_S (mp3cut.net).wav_fragment_10.wav  -11.457876   -4.653593   \n",
       "ID05_hc_0_0_0_S (mp3cut.net).wav_fragment_11.wav   -9.837759  -12.122191   \n",
       "\n",
       "                                                  mfcc_mean9  mfcc_mean10  \\\n",
       "filename                                                                    \n",
       "ID01_hc_0_0_0_S (mp3cut.net).wav_fragment_0.wav   -15.645575    -9.015319   \n",
       "ID05_hc_0_0_0_S (mp3cut.net).wav_fragment_0.wav   -11.950063   -18.726913   \n",
       "ID05_hc_0_0_0_S (mp3cut.net).wav_fragment_1.wav    -9.472397   -15.455375   \n",
       "ID05_hc_0_0_0_S (mp3cut.net).wav_fragment_10.wav  -10.288290   -12.616486   \n",
       "ID05_hc_0_0_0_S (mp3cut.net).wav_fragment_11.wav  -16.100706   -14.561094   \n",
       "\n",
       "                                                  ...  logfbank_std20  \\\n",
       "filename                                          ...                   \n",
       "ID01_hc_0_0_0_S (mp3cut.net).wav_fragment_0.wav   ...        3.145423   \n",
       "ID05_hc_0_0_0_S (mp3cut.net).wav_fragment_0.wav   ...        3.007224   \n",
       "ID05_hc_0_0_0_S (mp3cut.net).wav_fragment_1.wav   ...        2.557527   \n",
       "ID05_hc_0_0_0_S (mp3cut.net).wav_fragment_10.wav  ...        2.676273   \n",
       "ID05_hc_0_0_0_S (mp3cut.net).wav_fragment_11.wav  ...        2.755002   \n",
       "\n",
       "                                                  logfbank_std21  \\\n",
       "filename                                                           \n",
       "ID01_hc_0_0_0_S (mp3cut.net).wav_fragment_0.wav         3.074468   \n",
       "ID05_hc_0_0_0_S (mp3cut.net).wav_fragment_0.wav         2.967000   \n",
       "ID05_hc_0_0_0_S (mp3cut.net).wav_fragment_1.wav         2.438457   \n",
       "ID05_hc_0_0_0_S (mp3cut.net).wav_fragment_10.wav        2.522489   \n",
       "ID05_hc_0_0_0_S (mp3cut.net).wav_fragment_11.wav        2.884432   \n",
       "\n",
       "                                                  logfbank_std22  \\\n",
       "filename                                                           \n",
       "ID01_hc_0_0_0_S (mp3cut.net).wav_fragment_0.wav         3.042502   \n",
       "ID05_hc_0_0_0_S (mp3cut.net).wav_fragment_0.wav         2.633646   \n",
       "ID05_hc_0_0_0_S (mp3cut.net).wav_fragment_1.wav         2.252246   \n",
       "ID05_hc_0_0_0_S (mp3cut.net).wav_fragment_10.wav        2.265982   \n",
       "ID05_hc_0_0_0_S (mp3cut.net).wav_fragment_11.wav        2.601980   \n",
       "\n",
       "                                                  logfbank_std23  \\\n",
       "filename                                                           \n",
       "ID01_hc_0_0_0_S (mp3cut.net).wav_fragment_0.wav         2.496285   \n",
       "ID05_hc_0_0_0_S (mp3cut.net).wav_fragment_0.wav         2.030350   \n",
       "ID05_hc_0_0_0_S (mp3cut.net).wav_fragment_1.wav         1.964424   \n",
       "ID05_hc_0_0_0_S (mp3cut.net).wav_fragment_10.wav        2.163699   \n",
       "ID05_hc_0_0_0_S (mp3cut.net).wav_fragment_11.wav        2.197466   \n",
       "\n",
       "                                                  logfbank_std24  \\\n",
       "filename                                                           \n",
       "ID01_hc_0_0_0_S (mp3cut.net).wav_fragment_0.wav         2.414012   \n",
       "ID05_hc_0_0_0_S (mp3cut.net).wav_fragment_0.wav         1.970558   \n",
       "ID05_hc_0_0_0_S (mp3cut.net).wav_fragment_1.wav         1.843730   \n",
       "ID05_hc_0_0_0_S (mp3cut.net).wav_fragment_10.wav        2.096680   \n",
       "ID05_hc_0_0_0_S (mp3cut.net).wav_fragment_11.wav        2.242392   \n",
       "\n",
       "                                                  logfbank_std25  \\\n",
       "filename                                                           \n",
       "ID01_hc_0_0_0_S (mp3cut.net).wav_fragment_0.wav         2.463708   \n",
       "ID05_hc_0_0_0_S (mp3cut.net).wav_fragment_0.wav         2.299575   \n",
       "ID05_hc_0_0_0_S (mp3cut.net).wav_fragment_1.wav         2.009702   \n",
       "ID05_hc_0_0_0_S (mp3cut.net).wav_fragment_10.wav        2.366275   \n",
       "ID05_hc_0_0_0_S (mp3cut.net).wav_fragment_11.wav        2.687278   \n",
       "\n",
       "                                                  logfbank_std26       energy  \\\n",
       "filename                                                                        \n",
       "ID01_hc_0_0_0_S (mp3cut.net).wav_fragment_0.wav         2.004587  3960.302681   \n",
       "ID05_hc_0_0_0_S (mp3cut.net).wav_fragment_0.wav         2.006747  3643.573149   \n",
       "ID05_hc_0_0_0_S (mp3cut.net).wav_fragment_1.wav         1.881945  3647.488082   \n",
       "ID05_hc_0_0_0_S (mp3cut.net).wav_fragment_10.wav        2.234393  3326.373648   \n",
       "ID05_hc_0_0_0_S (mp3cut.net).wav_fragment_11.wav        2.447983  3693.493180   \n",
       "\n",
       "                                                       zcr  label  \n",
       "filename                                                           \n",
       "ID01_hc_0_0_0_S (mp3cut.net).wav_fragment_0.wav   0.383755      0  \n",
       "ID05_hc_0_0_0_S (mp3cut.net).wav_fragment_0.wav   0.330712      0  \n",
       "ID05_hc_0_0_0_S (mp3cut.net).wav_fragment_1.wav   0.390721      0  \n",
       "ID05_hc_0_0_0_S (mp3cut.net).wav_fragment_10.wav  0.344009      0  \n",
       "ID05_hc_0_0_0_S (mp3cut.net).wav_fragment_11.wav  0.347093      0  \n",
       "\n",
       "[5 rows x 211 columns]"
      ]
     },
     "execution_count": 6,
     "metadata": {},
     "output_type": "execute_result"
    }
   ],
   "source": [
    "data_test = pd.read_csv(r'../test_dataset.csv',\n",
    "                   sep = ',', index_col = 'filename')  \n",
    "data_test.head()"
   ]
  },
  {
   "cell_type": "code",
   "execution_count": 7,
   "metadata": {},
   "outputs": [
    {
     "data": {
      "text/html": [
       "<div>\n",
       "<style scoped>\n",
       "    .dataframe tbody tr th:only-of-type {\n",
       "        vertical-align: middle;\n",
       "    }\n",
       "\n",
       "    .dataframe tbody tr th {\n",
       "        vertical-align: top;\n",
       "    }\n",
       "\n",
       "    .dataframe thead th {\n",
       "        text-align: right;\n",
       "    }\n",
       "</style>\n",
       "<table border=\"1\" class=\"dataframe\">\n",
       "  <thead>\n",
       "    <tr style=\"text-align: right;\">\n",
       "      <th></th>\n",
       "      <th>mfcc_mean1</th>\n",
       "      <th>mfcc_mean2</th>\n",
       "      <th>mfcc_mean3</th>\n",
       "      <th>mfcc_mean4</th>\n",
       "      <th>mfcc_mean5</th>\n",
       "      <th>mfcc_mean6</th>\n",
       "      <th>mfcc_mean7</th>\n",
       "      <th>mfcc_mean8</th>\n",
       "      <th>mfcc_mean9</th>\n",
       "      <th>mfcc_mean10</th>\n",
       "      <th>...</th>\n",
       "      <th>logfbank_std20</th>\n",
       "      <th>logfbank_std21</th>\n",
       "      <th>logfbank_std22</th>\n",
       "      <th>logfbank_std23</th>\n",
       "      <th>logfbank_std24</th>\n",
       "      <th>logfbank_std25</th>\n",
       "      <th>logfbank_std26</th>\n",
       "      <th>energy</th>\n",
       "      <th>zcr</th>\n",
       "      <th>label</th>\n",
       "    </tr>\n",
       "    <tr>\n",
       "      <th>filename</th>\n",
       "      <th></th>\n",
       "      <th></th>\n",
       "      <th></th>\n",
       "      <th></th>\n",
       "      <th></th>\n",
       "      <th></th>\n",
       "      <th></th>\n",
       "      <th></th>\n",
       "      <th></th>\n",
       "      <th></th>\n",
       "      <th></th>\n",
       "      <th></th>\n",
       "      <th></th>\n",
       "      <th></th>\n",
       "      <th></th>\n",
       "      <th></th>\n",
       "      <th></th>\n",
       "      <th></th>\n",
       "      <th></th>\n",
       "      <th></th>\n",
       "      <th></th>\n",
       "    </tr>\n",
       "  </thead>\n",
       "  <tbody>\n",
       "    <tr>\n",
       "      <th>echo_ID00_hc_0_0_0 (mp3cut.net) (1).wav_fragment_0.wav</th>\n",
       "      <td>17.930628</td>\n",
       "      <td>-9.017882</td>\n",
       "      <td>14.054700</td>\n",
       "      <td>15.173825</td>\n",
       "      <td>1.868202</td>\n",
       "      <td>-1.469046</td>\n",
       "      <td>-24.847416</td>\n",
       "      <td>-15.100344</td>\n",
       "      <td>-3.971270</td>\n",
       "      <td>-3.789530</td>\n",
       "      <td>...</td>\n",
       "      <td>2.811926</td>\n",
       "      <td>2.521471</td>\n",
       "      <td>2.187658</td>\n",
       "      <td>1.765074</td>\n",
       "      <td>1.553108</td>\n",
       "      <td>1.589234</td>\n",
       "      <td>1.563839</td>\n",
       "      <td>3629.551152</td>\n",
       "      <td>0.487782</td>\n",
       "      <td>0</td>\n",
       "    </tr>\n",
       "    <tr>\n",
       "      <th>echo_ID00_hc_0_0_0 (mp3cut.net) (1).wav_fragment_1.wav</th>\n",
       "      <td>17.388777</td>\n",
       "      <td>-2.557132</td>\n",
       "      <td>11.618086</td>\n",
       "      <td>6.532841</td>\n",
       "      <td>5.911298</td>\n",
       "      <td>-6.027543</td>\n",
       "      <td>-29.458040</td>\n",
       "      <td>-19.564650</td>\n",
       "      <td>-6.468596</td>\n",
       "      <td>-1.780942</td>\n",
       "      <td>...</td>\n",
       "      <td>1.888350</td>\n",
       "      <td>1.772733</td>\n",
       "      <td>1.348724</td>\n",
       "      <td>1.046690</td>\n",
       "      <td>1.041594</td>\n",
       "      <td>1.282177</td>\n",
       "      <td>1.218821</td>\n",
       "      <td>3832.198043</td>\n",
       "      <td>0.468653</td>\n",
       "      <td>0</td>\n",
       "    </tr>\n",
       "    <tr>\n",
       "      <th>echo_ID00_hc_0_0_0 (mp3cut.net) (1).wav_fragment_10.wav</th>\n",
       "      <td>17.200156</td>\n",
       "      <td>-7.551741</td>\n",
       "      <td>11.922425</td>\n",
       "      <td>11.411635</td>\n",
       "      <td>6.540767</td>\n",
       "      <td>-0.632196</td>\n",
       "      <td>-24.284989</td>\n",
       "      <td>-14.447761</td>\n",
       "      <td>-4.743521</td>\n",
       "      <td>-2.466706</td>\n",
       "      <td>...</td>\n",
       "      <td>2.557428</td>\n",
       "      <td>2.261702</td>\n",
       "      <td>1.886688</td>\n",
       "      <td>1.568230</td>\n",
       "      <td>1.277807</td>\n",
       "      <td>1.386555</td>\n",
       "      <td>1.179126</td>\n",
       "      <td>3416.924168</td>\n",
       "      <td>0.475823</td>\n",
       "      <td>0</td>\n",
       "    </tr>\n",
       "    <tr>\n",
       "      <th>echo_ID00_hc_0_0_0 (mp3cut.net) (1).wav_fragment_11.wav</th>\n",
       "      <td>17.838119</td>\n",
       "      <td>-14.449631</td>\n",
       "      <td>12.278689</td>\n",
       "      <td>15.089007</td>\n",
       "      <td>3.997534</td>\n",
       "      <td>1.849043</td>\n",
       "      <td>-23.963366</td>\n",
       "      <td>-14.876950</td>\n",
       "      <td>-6.487395</td>\n",
       "      <td>-3.932320</td>\n",
       "      <td>...</td>\n",
       "      <td>2.849085</td>\n",
       "      <td>2.687413</td>\n",
       "      <td>2.324717</td>\n",
       "      <td>1.982102</td>\n",
       "      <td>1.747877</td>\n",
       "      <td>1.657400</td>\n",
       "      <td>1.404249</td>\n",
       "      <td>3624.880107</td>\n",
       "      <td>0.480463</td>\n",
       "      <td>0</td>\n",
       "    </tr>\n",
       "    <tr>\n",
       "      <th>echo_ID00_hc_0_0_0 (mp3cut.net) (1).wav_fragment_12.wav</th>\n",
       "      <td>18.105365</td>\n",
       "      <td>-12.996685</td>\n",
       "      <td>6.261352</td>\n",
       "      <td>4.386298</td>\n",
       "      <td>3.908244</td>\n",
       "      <td>-0.463887</td>\n",
       "      <td>-23.817368</td>\n",
       "      <td>-12.659750</td>\n",
       "      <td>-5.793961</td>\n",
       "      <td>-0.345014</td>\n",
       "      <td>...</td>\n",
       "      <td>2.525117</td>\n",
       "      <td>2.503312</td>\n",
       "      <td>2.225229</td>\n",
       "      <td>1.982468</td>\n",
       "      <td>1.788182</td>\n",
       "      <td>1.662781</td>\n",
       "      <td>1.444513</td>\n",
       "      <td>3742.625706</td>\n",
       "      <td>0.485129</td>\n",
       "      <td>0</td>\n",
       "    </tr>\n",
       "  </tbody>\n",
       "</table>\n",
       "<p>5 rows × 211 columns</p>\n",
       "</div>"
      ],
      "text/plain": [
       "                                                    mfcc_mean1  mfcc_mean2  \\\n",
       "filename                                                                     \n",
       "echo_ID00_hc_0_0_0 (mp3cut.net) (1).wav_fragmen...   17.930628   -9.017882   \n",
       "echo_ID00_hc_0_0_0 (mp3cut.net) (1).wav_fragmen...   17.388777   -2.557132   \n",
       "echo_ID00_hc_0_0_0 (mp3cut.net) (1).wav_fragmen...   17.200156   -7.551741   \n",
       "echo_ID00_hc_0_0_0 (mp3cut.net) (1).wav_fragmen...   17.838119  -14.449631   \n",
       "echo_ID00_hc_0_0_0 (mp3cut.net) (1).wav_fragmen...   18.105365  -12.996685   \n",
       "\n",
       "                                                    mfcc_mean3  mfcc_mean4  \\\n",
       "filename                                                                     \n",
       "echo_ID00_hc_0_0_0 (mp3cut.net) (1).wav_fragmen...   14.054700   15.173825   \n",
       "echo_ID00_hc_0_0_0 (mp3cut.net) (1).wav_fragmen...   11.618086    6.532841   \n",
       "echo_ID00_hc_0_0_0 (mp3cut.net) (1).wav_fragmen...   11.922425   11.411635   \n",
       "echo_ID00_hc_0_0_0 (mp3cut.net) (1).wav_fragmen...   12.278689   15.089007   \n",
       "echo_ID00_hc_0_0_0 (mp3cut.net) (1).wav_fragmen...    6.261352    4.386298   \n",
       "\n",
       "                                                    mfcc_mean5  mfcc_mean6  \\\n",
       "filename                                                                     \n",
       "echo_ID00_hc_0_0_0 (mp3cut.net) (1).wav_fragmen...    1.868202   -1.469046   \n",
       "echo_ID00_hc_0_0_0 (mp3cut.net) (1).wav_fragmen...    5.911298   -6.027543   \n",
       "echo_ID00_hc_0_0_0 (mp3cut.net) (1).wav_fragmen...    6.540767   -0.632196   \n",
       "echo_ID00_hc_0_0_0 (mp3cut.net) (1).wav_fragmen...    3.997534    1.849043   \n",
       "echo_ID00_hc_0_0_0 (mp3cut.net) (1).wav_fragmen...    3.908244   -0.463887   \n",
       "\n",
       "                                                    mfcc_mean7  mfcc_mean8  \\\n",
       "filename                                                                     \n",
       "echo_ID00_hc_0_0_0 (mp3cut.net) (1).wav_fragmen...  -24.847416  -15.100344   \n",
       "echo_ID00_hc_0_0_0 (mp3cut.net) (1).wav_fragmen...  -29.458040  -19.564650   \n",
       "echo_ID00_hc_0_0_0 (mp3cut.net) (1).wav_fragmen...  -24.284989  -14.447761   \n",
       "echo_ID00_hc_0_0_0 (mp3cut.net) (1).wav_fragmen...  -23.963366  -14.876950   \n",
       "echo_ID00_hc_0_0_0 (mp3cut.net) (1).wav_fragmen...  -23.817368  -12.659750   \n",
       "\n",
       "                                                    mfcc_mean9  mfcc_mean10  \\\n",
       "filename                                                                      \n",
       "echo_ID00_hc_0_0_0 (mp3cut.net) (1).wav_fragmen...   -3.971270    -3.789530   \n",
       "echo_ID00_hc_0_0_0 (mp3cut.net) (1).wav_fragmen...   -6.468596    -1.780942   \n",
       "echo_ID00_hc_0_0_0 (mp3cut.net) (1).wav_fragmen...   -4.743521    -2.466706   \n",
       "echo_ID00_hc_0_0_0 (mp3cut.net) (1).wav_fragmen...   -6.487395    -3.932320   \n",
       "echo_ID00_hc_0_0_0 (mp3cut.net) (1).wav_fragmen...   -5.793961    -0.345014   \n",
       "\n",
       "                                                    ...  logfbank_std20  \\\n",
       "filename                                            ...                   \n",
       "echo_ID00_hc_0_0_0 (mp3cut.net) (1).wav_fragmen...  ...        2.811926   \n",
       "echo_ID00_hc_0_0_0 (mp3cut.net) (1).wav_fragmen...  ...        1.888350   \n",
       "echo_ID00_hc_0_0_0 (mp3cut.net) (1).wav_fragmen...  ...        2.557428   \n",
       "echo_ID00_hc_0_0_0 (mp3cut.net) (1).wav_fragmen...  ...        2.849085   \n",
       "echo_ID00_hc_0_0_0 (mp3cut.net) (1).wav_fragmen...  ...        2.525117   \n",
       "\n",
       "                                                    logfbank_std21  \\\n",
       "filename                                                             \n",
       "echo_ID00_hc_0_0_0 (mp3cut.net) (1).wav_fragmen...        2.521471   \n",
       "echo_ID00_hc_0_0_0 (mp3cut.net) (1).wav_fragmen...        1.772733   \n",
       "echo_ID00_hc_0_0_0 (mp3cut.net) (1).wav_fragmen...        2.261702   \n",
       "echo_ID00_hc_0_0_0 (mp3cut.net) (1).wav_fragmen...        2.687413   \n",
       "echo_ID00_hc_0_0_0 (mp3cut.net) (1).wav_fragmen...        2.503312   \n",
       "\n",
       "                                                    logfbank_std22  \\\n",
       "filename                                                             \n",
       "echo_ID00_hc_0_0_0 (mp3cut.net) (1).wav_fragmen...        2.187658   \n",
       "echo_ID00_hc_0_0_0 (mp3cut.net) (1).wav_fragmen...        1.348724   \n",
       "echo_ID00_hc_0_0_0 (mp3cut.net) (1).wav_fragmen...        1.886688   \n",
       "echo_ID00_hc_0_0_0 (mp3cut.net) (1).wav_fragmen...        2.324717   \n",
       "echo_ID00_hc_0_0_0 (mp3cut.net) (1).wav_fragmen...        2.225229   \n",
       "\n",
       "                                                    logfbank_std23  \\\n",
       "filename                                                             \n",
       "echo_ID00_hc_0_0_0 (mp3cut.net) (1).wav_fragmen...        1.765074   \n",
       "echo_ID00_hc_0_0_0 (mp3cut.net) (1).wav_fragmen...        1.046690   \n",
       "echo_ID00_hc_0_0_0 (mp3cut.net) (1).wav_fragmen...        1.568230   \n",
       "echo_ID00_hc_0_0_0 (mp3cut.net) (1).wav_fragmen...        1.982102   \n",
       "echo_ID00_hc_0_0_0 (mp3cut.net) (1).wav_fragmen...        1.982468   \n",
       "\n",
       "                                                    logfbank_std24  \\\n",
       "filename                                                             \n",
       "echo_ID00_hc_0_0_0 (mp3cut.net) (1).wav_fragmen...        1.553108   \n",
       "echo_ID00_hc_0_0_0 (mp3cut.net) (1).wav_fragmen...        1.041594   \n",
       "echo_ID00_hc_0_0_0 (mp3cut.net) (1).wav_fragmen...        1.277807   \n",
       "echo_ID00_hc_0_0_0 (mp3cut.net) (1).wav_fragmen...        1.747877   \n",
       "echo_ID00_hc_0_0_0 (mp3cut.net) (1).wav_fragmen...        1.788182   \n",
       "\n",
       "                                                    logfbank_std25  \\\n",
       "filename                                                             \n",
       "echo_ID00_hc_0_0_0 (mp3cut.net) (1).wav_fragmen...        1.589234   \n",
       "echo_ID00_hc_0_0_0 (mp3cut.net) (1).wav_fragmen...        1.282177   \n",
       "echo_ID00_hc_0_0_0 (mp3cut.net) (1).wav_fragmen...        1.386555   \n",
       "echo_ID00_hc_0_0_0 (mp3cut.net) (1).wav_fragmen...        1.657400   \n",
       "echo_ID00_hc_0_0_0 (mp3cut.net) (1).wav_fragmen...        1.662781   \n",
       "\n",
       "                                                    logfbank_std26  \\\n",
       "filename                                                             \n",
       "echo_ID00_hc_0_0_0 (mp3cut.net) (1).wav_fragmen...        1.563839   \n",
       "echo_ID00_hc_0_0_0 (mp3cut.net) (1).wav_fragmen...        1.218821   \n",
       "echo_ID00_hc_0_0_0 (mp3cut.net) (1).wav_fragmen...        1.179126   \n",
       "echo_ID00_hc_0_0_0 (mp3cut.net) (1).wav_fragmen...        1.404249   \n",
       "echo_ID00_hc_0_0_0 (mp3cut.net) (1).wav_fragmen...        1.444513   \n",
       "\n",
       "                                                         energy       zcr  \\\n",
       "filename                                                                    \n",
       "echo_ID00_hc_0_0_0 (mp3cut.net) (1).wav_fragmen...  3629.551152  0.487782   \n",
       "echo_ID00_hc_0_0_0 (mp3cut.net) (1).wav_fragmen...  3832.198043  0.468653   \n",
       "echo_ID00_hc_0_0_0 (mp3cut.net) (1).wav_fragmen...  3416.924168  0.475823   \n",
       "echo_ID00_hc_0_0_0 (mp3cut.net) (1).wav_fragmen...  3624.880107  0.480463   \n",
       "echo_ID00_hc_0_0_0 (mp3cut.net) (1).wav_fragmen...  3742.625706  0.485129   \n",
       "\n",
       "                                                    label  \n",
       "filename                                                   \n",
       "echo_ID00_hc_0_0_0 (mp3cut.net) (1).wav_fragmen...      0  \n",
       "echo_ID00_hc_0_0_0 (mp3cut.net) (1).wav_fragmen...      0  \n",
       "echo_ID00_hc_0_0_0 (mp3cut.net) (1).wav_fragmen...      0  \n",
       "echo_ID00_hc_0_0_0 (mp3cut.net) (1).wav_fragmen...      0  \n",
       "echo_ID00_hc_0_0_0 (mp3cut.net) (1).wav_fragmen...      0  \n",
       "\n",
       "[5 rows x 211 columns]"
      ]
     },
     "execution_count": 7,
     "metadata": {},
     "output_type": "execute_result"
    }
   ],
   "source": [
    "data_train = pd.read_csv(r'../train_dataset.csv',\n",
    "                   sep = ',', index_col = 'filename')  \n",
    "data_train.head()"
   ]
  },
  {
   "cell_type": "code",
   "execution_count": 8,
   "metadata": {},
   "outputs": [
    {
     "data": {
      "text/plain": [
       "label\n",
       "0    6050\n",
       "1    4246\n",
       "Name: count, dtype: int64"
      ]
     },
     "execution_count": 8,
     "metadata": {},
     "output_type": "execute_result"
    }
   ],
   "source": [
    "data_train['label'].value_counts()"
   ]
  },
  {
   "cell_type": "code",
   "execution_count": 14,
   "metadata": {},
   "outputs": [
    {
     "data": {
      "text/plain": [
       "label\n",
       "0    0.587607\n",
       "1    0.412393\n",
       "Name: proportion, dtype: float64"
      ]
     },
     "execution_count": 14,
     "metadata": {},
     "output_type": "execute_result"
    }
   ],
   "source": [
    "data_train['label'].value_counts(normalize = True)"
   ]
  },
  {
   "cell_type": "code",
   "execution_count": 9,
   "metadata": {},
   "outputs": [
    {
     "data": {
      "text/plain": [
       "label\n",
       "0    183\n",
       "1    140\n",
       "Name: count, dtype: int64"
      ]
     },
     "execution_count": 9,
     "metadata": {},
     "output_type": "execute_result"
    }
   ],
   "source": [
    "data_test['label'].value_counts()"
   ]
  },
  {
   "cell_type": "code",
   "execution_count": 15,
   "metadata": {},
   "outputs": [
    {
     "data": {
      "text/plain": [
       "label\n",
       "0    0.566563\n",
       "1    0.433437\n",
       "Name: proportion, dtype: float64"
      ]
     },
     "execution_count": 15,
     "metadata": {},
     "output_type": "execute_result"
    }
   ],
   "source": [
    "data_test['label'].value_counts(normalize = True)"
   ]
  },
  {
   "cell_type": "markdown",
   "metadata": {},
   "source": [
    "### Деление данных на train и test"
   ]
  },
  {
   "cell_type": "code",
   "execution_count": 10,
   "metadata": {},
   "outputs": [],
   "source": [
    "# Создание заголовка для файла CSV.\n",
    "num_filters = 26\n",
    "header = ['filename']\n",
    "header.extend([f'mfcc_mean{i}' for i in range(1, num_filters + 1)])\n",
    "header.extend([f'delta_mfcc{i}' for i in range(1, num_filters + 1)])\n",
    "header.extend([f'delta2_mfcc{i}' for i in range(1, num_filters + 1)])\n",
    "header.extend([f'logfbank{i}' for i in range(1, 27)])\n",
    "\n",
    "header.extend([f'mfcc_std{i}' for i in range(1, num_filters + 1)])\n",
    "header.extend([f'delta_std{i}' for i in range(1, num_filters + 1)])\n",
    "header.extend([f'delta2_std{i}' for i in range(1, num_filters + 1)])\n",
    "header.extend([f'logfbank_std{i}' for i in range(1, 27)])\n",
    "\n",
    "header.extend(['energy', 'zcr', 'label'])"
   ]
  },
  {
   "cell_type": "code",
   "execution_count": 11,
   "metadata": {},
   "outputs": [],
   "source": [
    "y_train = data_train['label'].values\n",
    "\n",
    "data_header = header[1:-1]\n",
    "X_train = data_train[data_header]"
   ]
  },
  {
   "cell_type": "code",
   "execution_count": 16,
   "metadata": {},
   "outputs": [
    {
     "data": {
      "text/plain": [
       "array([[ 0.97910825,  0.69722902,  1.28690557,  1.75967126,  0.10948993,\n",
       "        -0.68915163, -2.30066959, -1.46688361,  0.70796374,  0.3500346 ,\n",
       "         0.20808685, -0.05792966,  0.27925509, -0.67792612,  0.04370339,\n",
       "        -1.64126266,  0.11385081,  0.25002011, -0.34079743, -1.33521557,\n",
       "         0.48774633, -0.72154306, -0.52820746, -0.02046362,  0.30816764,\n",
       "         1.24423626,  1.60679823,  0.54357433, -1.62758373,  0.46738726,\n",
       "         1.02037549,  0.07112228, -1.19030461, -1.66341981,  0.91979398,\n",
       "        -0.34125794,  0.68894377, -0.45712768, -1.1466879 , -0.58301568,\n",
       "         2.070752  , -0.24630936, -1.46832753,  1.04648944, -2.24242081,\n",
       "         0.42881583,  0.60832792,  0.19663289, -0.60529035,  0.20897012,\n",
       "        -0.69867795,  0.47803342, -0.3687374 ,  0.43505809,  0.47630256,\n",
       "        -0.0874623 ,  0.0797169 ,  0.02786536,  0.25595497, -1.25489515,\n",
       "        -0.45245739,  0.49567218,  0.04090979,  0.27631863,  0.94384049,\n",
       "         0.79958897,  0.82710367, -0.68131411, -0.27023092,  0.31833684,\n",
       "        -0.74212223,  0.83013539, -0.31157976,  0.51901927, -0.24925472,\n",
       "         0.46111576, -0.72091072,  0.77663818,  1.65403132,  2.62827181,\n",
       "         2.37712215,  2.44956977,  2.36255917,  2.07546771,  1.21229777,\n",
       "         0.341098  ,  0.01469472,  0.22053525,  0.34344608,  0.87729657,\n",
       "         1.19117991,  0.99364502,  0.73317977,  0.82375284,  0.50723733,\n",
       "         0.70660978,  0.94349586,  0.88721511,  0.84640664,  0.77481478,\n",
       "         0.69781897,  0.47060668,  0.24302828,  0.47261196, -0.36677   ,\n",
       "         0.26601095, -0.61699353,  0.01771358, -0.04454608,  0.56572523,\n",
       "         0.77130051,  0.21045255, -0.82943795, -0.66784026, -0.97401722,\n",
       "        -1.27101115, -0.53110839, -1.20860227, -0.86238508, -1.43179363,\n",
       "        -0.91147417,  0.02835417, -0.91587031, -0.15480863, -0.22662358,\n",
       "        -0.99365396,  0.05982984,  0.21649715,  1.02389258,  0.43415739,\n",
       "        -0.41285813,  0.01119802,  0.6180177 , -0.17198725,  0.01151931,\n",
       "         0.49758178,  1.66396219,  0.90353296, -0.25973595, -0.05045882,\n",
       "         0.53699281, -0.9992639 , -0.8253676 , -1.25528645, -0.81412032,\n",
       "        -1.03016504, -0.1995033 ,  0.13824152, -0.45771176, -0.02284695,\n",
       "         0.04704991, -0.1335739 , -0.14582199,  0.40009981,  0.92088247,\n",
       "         0.14257744, -0.23908958,  0.41890961,  1.13743315,  0.15563093,\n",
       "         0.35427539,  1.10140016,  2.46473896,  1.45431283,  0.44692716,\n",
       "         0.41374065,  1.14110158, -0.47638612, -0.47335788, -0.82455907,\n",
       "        -0.48585983, -0.76899502,  0.10083404,  0.64485224, -0.14841895,\n",
       "         0.13278075,  0.43248915,  0.36470285, -0.21145159,  0.77397865,\n",
       "         0.81115368,  0.33009425, -1.29314993, -1.55688459, -1.58405728,\n",
       "        -1.10698659, -0.90694424, -0.6090362 , -0.52695417, -1.07478373,\n",
       "        -1.39838104, -1.0172751 , -0.5313987 , -0.22067985, -0.30862864,\n",
       "        -0.50079468, -0.38895636, -0.23499168,  0.13885022,  0.03123561,\n",
       "         0.10194751,  0.60973299,  0.27487447,  0.01217864, -0.27150052,\n",
       "        -0.36938083, -0.27304487, -0.16979108,  0.65071474,  1.22075262],\n",
       "       [ 0.54920293,  1.68635269,  0.76858093,  0.30730909,  0.79426667,\n",
       "        -1.38611083, -2.93545202, -2.12998621,  0.30504906,  0.66492506,\n",
       "         0.79197035,  0.82771809,  0.17855835, -0.66614068,  0.70768586,\n",
       "        -1.59361171, -0.54309372,  1.12359208,  0.02008821, -1.65487552,\n",
       "         1.17441181, -0.3129894 , -0.83718725, -0.69284759,  0.02320047,\n",
       "        -0.23835793, -0.01220875,  0.27511572,  1.32010413, -1.40601666,\n",
       "        -1.73665623, -0.04125523,  0.60285262,  2.19849622,  1.85689117,\n",
       "        -0.97154412, -0.28343489,  0.80657156,  1.37370263, -0.81443679,\n",
       "        -1.22164622,  0.61273366,  0.74103696,  0.79611888, -1.95456766,\n",
       "        -0.11947758, -1.37336012, -1.64615922,  0.60221313, -2.10830406,\n",
       "         0.71763616,  0.42654728,  1.58709169, -0.32029394, -1.03878524,\n",
       "        -1.37230976,  0.45629921, -0.03078698, -0.88559321, -1.78747907,\n",
       "        -1.58780468, -2.76984557, -0.16876704, -0.67965951, -0.56098906,\n",
       "        -0.49425609,  0.97371067, -1.25661593, -2.23755691,  0.89912088,\n",
       "         0.1257985 ,  0.3051912 ,  0.17139739, -0.27651217, -1.48453221,\n",
       "        -0.86112202, -0.0104267 ,  0.44847039,  1.3703006 ,  2.11199912,\n",
       "         2.29299339,  2.6843469 ,  2.92664591,  2.50591612,  1.3987452 ,\n",
       "         0.2648527 ,  0.12664164,  0.39861737,  0.69497753,  1.09455746,\n",
       "         1.23196813,  0.75924076,  0.58533926,  0.44007744, -0.28432456,\n",
       "        -0.05939559,  0.19010177, -0.12551216, -0.03586291, -0.07169836,\n",
       "         0.0480044 , -0.02294797, -0.11633055,  0.12991386, -0.37185814,\n",
       "        -0.8776733 ,  1.18768431, -0.69085423, -0.622148  , -0.7539059 ,\n",
       "         0.47204069,  0.96095836, -0.91523257, -0.6568981 ,  0.27832123,\n",
       "        -0.77119975, -0.13705922, -0.65732369,  0.45362461,  0.27917158,\n",
       "         0.90123577, -0.01946814,  0.77336723,  0.59992902,  0.55612619,\n",
       "         0.24928418, -0.30200136, -0.78409499, -1.01414528, -0.30674135,\n",
       "        -0.29981073, -1.14670853,  0.4388797 ,  0.16858799, -0.48517552,\n",
       "        -0.32062673,  0.48953664,  0.71015093, -0.91387383, -0.84524827,\n",
       "         1.91331368, -0.25258984, -0.4008995 , -0.03003228, -0.61413932,\n",
       "        -0.58439551,  1.03806849,  1.16497359,  0.45809233,  0.87601704,\n",
       "         0.58002077,  0.05619643,  0.31315988, -0.41746266, -0.50765769,\n",
       "        -0.78580133,  0.03009409, -0.41431219,  0.80030141,  0.72865763,\n",
       "        -0.04647223,  0.07677432,  0.92867896,  1.10295107, -0.47103628,\n",
       "        -0.4908396 ,  2.64086845,  0.19053814, -0.11877402,  0.58721263,\n",
       "        -0.63402772, -0.36343809,  1.2737907 ,  1.85487179,  0.69491488,\n",
       "         1.29369774,  1.0002953 ,  0.21633196,  0.62253979, -0.17380165,\n",
       "        -0.23797394, -0.68810009, -0.66814542, -0.27008839, -0.27483601,\n",
       "        -0.32731358, -0.03744411,  0.43100467,  0.24056385, -0.39407795,\n",
       "        -0.23012222,  0.20068388,  0.6411294 ,  1.13118144,  1.01650903,\n",
       "         0.25680751,  0.50277426,  0.08934153, -0.73705359, -0.58514038,\n",
       "        -0.52917124, -0.6665591 , -0.78092976, -1.18962616, -1.32271851,\n",
       "        -1.12812244, -0.71396708, -0.65812427,  1.08355175,  0.78916266]])"
      ]
     },
     "execution_count": 16,
     "metadata": {},
     "output_type": "execute_result"
    }
   ],
   "source": [
    "X_train = preprocessing.StandardScaler().fit(X_train).transform(X_train)\n",
    "X_train[0:2]"
   ]
  },
  {
   "cell_type": "code",
   "execution_count": 17,
   "metadata": {},
   "outputs": [],
   "source": [
    "y_test = data_test['label'].values\n",
    "X_test = data_test[data_header]"
   ]
  },
  {
   "cell_type": "code",
   "execution_count": 18,
   "metadata": {},
   "outputs": [
    {
     "data": {
      "text/plain": [
       "array([[-1.55374844e+00,  7.48564640e-01,  1.18990477e-01,\n",
       "        -2.38938105e-01, -1.11359427e+00, -2.40313526e+00,\n",
       "        -1.64651221e+00,  7.49661198e-01, -1.02305021e+00,\n",
       "        -5.52553659e-01, -3.18482081e-01, -1.25510010e+00,\n",
       "        -2.22373646e-01,  1.71651628e-01, -1.74128236e-01,\n",
       "        -1.26103931e+00, -5.58005738e-01,  3.48258524e-01,\n",
       "        -2.27643347e-01, -1.24836562e+00,  2.63157570e-01,\n",
       "        -1.04508460e+00, -1.66824747e-01,  7.12787119e-01,\n",
       "         2.13419133e-01, -5.87614997e-02, -5.30893477e-01,\n",
       "         1.54015128e+00,  2.98696083e+00,  4.85922155e-01,\n",
       "        -2.45052479e-01, -2.04603313e-01, -5.66073374e-02,\n",
       "         5.31897105e-01, -5.21106227e-01, -8.62314762e-01,\n",
       "        -6.16609658e-01, -3.84896472e-01, -1.31557391e+00,\n",
       "         7.55841835e-01,  5.04833375e-01, -1.99122900e+00,\n",
       "        -2.65852618e-01, -3.64914766e-01,  5.06359653e-01,\n",
       "        -9.17594006e-01, -6.54485189e-01, -1.05009022e+00,\n",
       "        -6.55680319e-01,  8.44760644e-01,  4.29099198e+00,\n",
       "         3.60127567e-01, -2.39449910e-01,  4.61498747e-01,\n",
       "         3.59759051e-01, -8.97007218e-02, -3.11236151e-01,\n",
       "        -4.03082705e-01, -4.91782822e-01, -6.37121451e-01,\n",
       "         8.21676799e-01,  9.04560889e-02, -1.52060490e+00,\n",
       "         2.72968933e-01, -5.13434932e-01, -1.31673711e+00,\n",
       "        -1.02790029e+00,  4.39288620e-02,  5.32960272e-01,\n",
       "        -8.29277479e-01, -6.10904099e-01, -5.77490656e-01,\n",
       "        -1.35345491e-01, -1.13658397e+00,  1.50939372e+00,\n",
       "        -5.48281607e-01, -4.56801073e-01,  3.15162916e-01,\n",
       "        -2.57621360e+00, -1.76115030e+00, -9.32809287e-01,\n",
       "        -4.00943656e-01, -3.01781783e-01, -3.76298352e-01,\n",
       "        -5.51317389e-01, -8.80639207e-01, -1.15950460e+00,\n",
       "        -1.50450151e+00, -1.79949811e+00, -1.58596470e+00,\n",
       "        -1.19650474e+00, -1.42843481e+00, -9.96706636e-01,\n",
       "        -5.93976283e-01, -1.06659697e+00, -1.33391852e+00,\n",
       "        -1.46233464e+00, -1.74897584e+00, -1.28736329e+00,\n",
       "        -1.06900037e+00, -1.24733206e+00, -1.30610328e+00,\n",
       "        -1.76074349e+00, -1.63746269e+00,  9.42073010e-01,\n",
       "         3.99502398e-01,  7.82508944e-01,  1.63301424e+00,\n",
       "         1.42919314e+00,  1.76556595e+00,  1.00332747e+00,\n",
       "         9.08619155e-01, -1.29247349e-01,  1.60759550e+00,\n",
       "         2.73006969e-01,  7.47839035e-01,  1.31911738e-01,\n",
       "        -3.99693034e-01,  1.75967735e+00,  7.52675740e-01,\n",
       "         2.34397835e+00, -1.78281774e-02,  3.81803818e-01,\n",
       "         2.33198995e+00,  3.15313791e-01,  1.06660141e+00,\n",
       "         1.19177496e+00,  2.13927860e+00,  3.04395484e+00,\n",
       "         1.03319210e+00,  1.02790017e+00, -8.21142682e-01,\n",
       "        -9.98645772e-02, -8.09850655e-02,  2.35293180e-01,\n",
       "        -3.45785212e-01,  1.17661970e+00,  5.61584131e-01,\n",
       "        -5.50072957e-01,  1.62744707e+00,  7.23695738e-01,\n",
       "         1.10257839e+00, -4.79023995e-01, -9.38718032e-01,\n",
       "         8.43569843e-01,  9.93798454e-01,  1.48330429e+00,\n",
       "         8.74509064e-01,  8.30714858e-01,  2.28417888e+00,\n",
       "         1.97834994e+00,  1.13309787e+00,  1.11064669e+00,\n",
       "         2.55010347e+00,  1.71723352e+00,  6.62802490e-01,\n",
       "         1.07634429e+00, -9.73684856e-01, -9.11585823e-02,\n",
       "        -4.68340996e-01,  1.89704802e-01, -9.63258313e-01,\n",
       "         1.21930526e+00,  6.87657775e-01, -2.03139547e-01,\n",
       "         1.87292677e+00,  8.59501051e-01,  1.40147456e+00,\n",
       "        -5.36710706e-01, -1.13192601e+00,  5.32771086e-01,\n",
       "         9.18974694e-01,  8.26979410e-01,  5.85698643e-01,\n",
       "         9.28142398e-01,  2.08983213e+00,  2.59669968e+00,\n",
       "         8.21884016e-01,  8.70323474e-01,  2.73658663e+00,\n",
       "         1.01923242e+00, -2.93586439e-01, -5.23475977e-01,\n",
       "         3.66780734e-02,  4.95601387e-01,  5.01722994e-01,\n",
       "         7.66647936e-01,  1.40806100e+00,  1.64483097e+00,\n",
       "         2.00810963e+00,  1.94527000e+00,  1.77452047e+00,\n",
       "         1.48576383e+00,  1.12607981e+00,  1.33446522e+00,\n",
       "         1.10276298e+00,  1.58166565e+00,  2.20746691e+00,\n",
       "         1.84812357e+00,  1.65122183e+00,  1.71644700e+00,\n",
       "         1.10761361e+00,  1.11000129e+00,  1.69685972e+00,\n",
       "         8.04863975e-01,  1.01049232e+00,  9.53061998e-01,\n",
       "        -1.66076327e-01,  1.65585073e+00, -8.91115277e-01],\n",
       "       [-1.86176136e+00,  1.50860450e+00, -8.41844930e-01,\n",
       "        -1.66734384e+00, -2.85026104e-01, -6.88995052e-01,\n",
       "        -2.62189976e-01, -1.83493719e-01, -4.72767298e-01,\n",
       "        -2.20820013e+00,  2.67612842e-01,  7.16919900e-01,\n",
       "        -7.68981183e-01,  5.76863348e-01,  7.11921127e-01,\n",
       "        -6.36701365e-01, -1.25458906e+00, -6.28907966e-01,\n",
       "        -4.30959011e-01, -6.64907070e-01, -3.36008430e-01,\n",
       "        -9.42516012e-01, -1.03081936e-01, -7.58300468e-01,\n",
       "        -7.64564334e-01, -2.55370548e-01,  1.81472982e+00,\n",
       "         5.71428699e-01,  2.42465650e-01,  3.89151524e-01,\n",
       "        -2.76138103e-01,  5.68030083e-01, -1.73246979e+00,\n",
       "        -2.54002174e+00, -1.76293204e+00, -1.01487861e+00,\n",
       "         1.25691686e+00,  8.22768686e-02, -2.34308530e+00,\n",
       "         2.21290745e+00,  5.79039560e-01, -8.89205839e-01,\n",
       "        -1.34467686e+00,  2.15606442e+00, -2.69432742e+00,\n",
       "        -3.59647640e+00,  6.06885731e-01, -1.66100062e-01,\n",
       "         1.00532691e+00,  4.09148975e-01, -1.14106568e+00,\n",
       "        -1.69497425e+00, -3.86920649e-01, -1.72340857e-01,\n",
       "         1.43662822e-01,  9.76481685e-01, -1.01938118e+00,\n",
       "        -1.04725062e+00, -9.77822973e-01, -7.50026091e-01,\n",
       "         5.91108171e-01, -3.14982977e-01, -7.79084510e-01,\n",
       "         1.30363418e-01, -6.38731929e-01, -7.04100908e-01,\n",
       "        -3.88330012e-01, -7.13499545e-01, -3.29217931e-02,\n",
       "         1.15926660e+00,  2.56795717e-02,  1.60053505e+00,\n",
       "         1.72703818e+00,  1.45883183e+00, -1.53531697e+00,\n",
       "         7.44570870e-01,  5.03101604e-01, -2.97633092e-01,\n",
       "        -2.34781658e+00, -1.89432842e+00, -1.26384078e+00,\n",
       "        -8.04802295e-01, -3.93397979e-01, -1.05034902e+00,\n",
       "        -8.52938137e-01, -4.10466739e-01, -1.06052205e-03,\n",
       "        -3.47696570e-01, -5.45485552e-01, -8.28224060e-01,\n",
       "        -1.23002724e+00, -1.19306390e+00, -8.63352038e-01,\n",
       "        -1.09273160e+00, -2.00359503e+00, -2.01533117e+00,\n",
       "        -1.69582866e+00, -1.62268926e+00, -1.53231401e+00,\n",
       "        -1.84166842e+00, -2.20816874e+00, -2.00543287e+00,\n",
       "        -1.79523832e+00, -1.63387875e+00,  1.47018099e+00,\n",
       "         2.47168041e-02,  2.27377862e-01,  1.39367974e+00,\n",
       "        -7.01255503e-02,  1.15530356e-01,  1.22789415e+00,\n",
       "         6.55193962e-01,  2.14045808e-01,  2.80352213e+00,\n",
       "        -5.37877981e-01,  7.94670870e-01,  1.67294213e+00,\n",
       "        -7.67234368e-01,  1.37724622e+00,  1.65561124e+00,\n",
       "         1.65934903e+00,  2.26726566e+00,  1.24413677e+00,\n",
       "         2.13527748e+00,  8.01171025e-01,  5.89447389e-01,\n",
       "         1.09023282e+00,  1.44385222e+00,  8.63816008e-01,\n",
       "        -7.52674045e-01, -3.40058801e-01, -1.08543534e-01,\n",
       "        -1.30683062e-01,  2.43337554e-01, -1.14091628e+00,\n",
       "        -1.22151137e+00,  4.95499674e-01, -2.44357727e-01,\n",
       "         2.90521567e-01,  1.09234495e+00, -1.29118612e+00,\n",
       "        -9.76081794e-02,  8.60679355e-01, -1.31647299e+00,\n",
       "         8.47756669e-02,  5.13004517e-01, -1.63552589e-01,\n",
       "         3.56958165e-02, -3.20551560e-01,  9.58810600e-01,\n",
       "        -1.35341299e+00, -6.20215445e-01,  2.27567605e-02,\n",
       "         5.89513367e-01,  3.88616151e-01, -8.43765928e-01,\n",
       "        -4.51758667e-01, -1.42041088e-01,  6.31634272e-02,\n",
       "        -8.34583752e-02, -1.21827713e+00, -1.33094364e+00,\n",
       "         2.95667820e-01, -2.43906861e-01,  4.64361797e-01,\n",
       "         3.46728560e-01, -1.14168040e+00, -1.83137943e-01,\n",
       "         5.59606995e-01, -1.14333948e+00, -6.52647671e-01,\n",
       "         8.67391180e-02, -6.35749218e-01,  1.94701405e-01,\n",
       "        -7.29274795e-01,  1.00316460e+00, -1.30514939e+00,\n",
       "        -1.01027772e+00,  6.36610969e-02,  3.55367108e-01,\n",
       "        -3.71060695e-02, -7.43090278e-01, -4.22272614e-01,\n",
       "         6.40487122e-01,  7.18960251e-01,  1.64821170e+00,\n",
       "         1.86347953e+00,  1.62750083e+00,  1.72214606e+00,\n",
       "         2.18288685e+00,  2.25606782e+00,  1.81483684e+00,\n",
       "         1.87128137e+00,  1.67586540e+00,  1.33662551e+00,\n",
       "         1.05975702e+00,  1.58286960e+00,  1.26823955e+00,\n",
       "         2.64701264e-01,  1.81861385e-01,  6.77696160e-01,\n",
       "         7.26219932e-01,  8.01546027e-01,  3.83103386e-01,\n",
       "        -6.61760313e-01, -3.86539519e-01,  4.42906761e-01,\n",
       "        -1.59807618e-01,  7.65923312e-01, -2.43302647e+00]])"
      ]
     },
     "execution_count": 18,
     "metadata": {},
     "output_type": "execute_result"
    }
   ],
   "source": [
    "X_test = preprocessing.StandardScaler().fit(X_test).transform(X_test)\n",
    "X_test[0:2]"
   ]
  },
  {
   "cell_type": "code",
   "execution_count": 19,
   "metadata": {},
   "outputs": [
    {
     "name": "stdout",
     "output_type": "stream",
     "text": [
      "Train set: (10296, 210) (10296,)\n",
      "Test set: (323, 210) (323,)\n"
     ]
    }
   ],
   "source": [
    "# размер тренировочных и тестовых наборов (количество строк, колонок):\n",
    "print ('Train set:', X_train.shape, y_train.shape)    \n",
    "print ('Test set:', X_test.shape, y_test.shape)"
   ]
  },
  {
   "cell_type": "markdown",
   "metadata": {},
   "source": [
    "### Классификатор на основе логистической регрессии"
   ]
  },
  {
   "cell_type": "code",
   "execution_count": 20,
   "metadata": {
    "metadata": {}
   },
   "outputs": [
    {
     "data": {
      "text/plain": [
       "array([0, 0, 0, 0, 0, 0, 0, 0, 0, 0], dtype=int64)"
      ]
     },
     "execution_count": 20,
     "metadata": {},
     "output_type": "execute_result"
    }
   ],
   "source": [
    "# создаем объект класса и обучаем модель\n",
    "lr = LogisticRegression(max_iter = 500)\n",
    "lr.fit(X_train, y_train)\n",
    "# делаем предикты для тестовой выборки\n",
    "y_pred = lr.predict(X_test)\n",
    "y_pred[0:10]"
   ]
  },
  {
   "cell_type": "code",
   "execution_count": 21,
   "metadata": {
    "metadata": {}
   },
   "outputs": [
    {
     "name": "stdout",
     "output_type": "stream",
     "text": [
      "Confusion matrix:\n",
      " [[180   3]\n",
      " [ 18 122]]\n"
     ]
    },
    {
     "data": {
      "image/png": "[encoded data removed]",
      "text/plain": [
       "<Figure size 640x480 with 2 Axes>"
      ]
     },
     "metadata": {},
     "output_type": "display_data"
    },
    {
     "name": "stdout",
     "output_type": "stream",
     "text": [
      "              precision    recall  f1-score   support\n",
      "\n",
      "           0       0.91      0.98      0.94       183\n",
      "           1       0.98      0.87      0.92       140\n",
      "\n",
      "    accuracy                           0.93       323\n",
      "   macro avg       0.94      0.93      0.93       323\n",
      "weighted avg       0.94      0.93      0.93       323\n",
      "\n"
     ]
    }
   ],
   "source": [
    "# строим матрицу несоответствий\n",
    "plot_confusion_matrix(y_test, y_pred, classes=['Not Parkinson', 'Parkinson'], normalize = False)\n",
    "# рассчет метрик классификации\n",
    "print(metrics.classification_report(y_test, y_pred))"
   ]
  },
  {
   "cell_type": "code",
   "execution_count": 24,
   "metadata": {},
   "outputs": [
    {
     "name": "stdout",
     "output_type": "stream",
     "text": [
      "Чувствительность:\t 0.8714285714285714\n",
      "Специфичность:\t 0.9836065573770492\n"
     ]
    }
   ],
   "source": [
    "# Расчет чувствительности и специфичности модели\n",
    "TN = metrics.confusion_matrix(y_test, y_pred)[0][0]\n",
    "TP = metrics.confusion_matrix(y_test, y_pred)[1][1]\n",
    "FN = metrics.confusion_matrix(y_test, y_pred)[1][0]\n",
    "FP = metrics.confusion_matrix(y_test, y_pred)[0][1]\n",
    "sensitivity = TP / (TP + FN)\n",
    "specificity = TN / (TN + FP)\n",
    "print('Чувствительность:\\t', sensitivity)\n",
    "print('Специфичность:\\t', specificity)"
   ]
  },
  {
   "cell_type": "markdown",
   "metadata": {},
   "source": [
    "### Классификатор k-NN"
   ]
  },
  {
   "cell_type": "code",
   "execution_count": 35,
   "metadata": {
    "metadata": {}
   },
   "outputs": [
    {
     "name": "stdout",
     "output_type": "stream",
     "text": [
      "Наилучшее число соседей:  {'n_neighbors': 1}\n"
     ]
    }
   ],
   "source": [
    "# выберем с помощью GridSearchCV наилучший параметр n_neigbours\n",
    "knn = KNeighborsClassifier()\n",
    "\n",
    "param_grid = {'n_neighbors': list(range(1, 10))}\n",
    "\n",
    "# создадим объект класса и обучим модель на каждом наборе параметров\n",
    "grid_search = GridSearchCV(knn, param_grid, scoring='recall', cv=5)\n",
    "grid_search.fit(X_train, y_train)\n",
    "\n",
    "print('Наилучшее число соседей: ', grid_search.best_params_)"
   ]
  },
  {
   "cell_type": "code",
   "execution_count": 36,
   "metadata": {
    "metadata": {}
   },
   "outputs": [
    {
     "data": {
      "text/plain": [
       "array([0, 0, 0, 0, 0, 0, 0, 0, 0, 0], dtype=int64)"
      ]
     },
     "execution_count": 36,
     "metadata": {},
     "output_type": "execute_result"
    }
   ],
   "source": [
    "# создаем объект класса и обучаем модель. n_neighbors = 3 и 5 почти такой же результат \n",
    "knn = KNeighborsClassifier(n_neighbors = 5)\n",
    "knn.fit(X_train, y_train)\n",
    "# делаем предикты для тестовой выборки\n",
    "y_pred = knn.predict(X_test)\n",
    "y_pred[0:10]"
   ]
  },
  {
   "cell_type": "code",
   "execution_count": 37,
   "metadata": {
    "metadata": {}
   },
   "outputs": [
    {
     "name": "stdout",
     "output_type": "stream",
     "text": [
      "Confusion matrix:\n",
      " [[182   1]\n",
      " [ 17 123]]\n"
     ]
    },
    {
     "data": {
      "image/png": "[encoded data removed]",
      "text/plain": [
       "<Figure size 640x480 with 2 Axes>"
      ]
     },
     "metadata": {},
     "output_type": "display_data"
    },
    {
     "name": "stdout",
     "output_type": "stream",
     "text": [
      "              precision    recall  f1-score   support\n",
      "\n",
      "           0       0.91      0.99      0.95       183\n",
      "           1       0.99      0.88      0.93       140\n",
      "\n",
      "    accuracy                           0.94       323\n",
      "   macro avg       0.95      0.94      0.94       323\n",
      "weighted avg       0.95      0.94      0.94       323\n",
      "\n"
     ]
    }
   ],
   "source": [
    "# строим матрицу несоответствий\n",
    "plot_confusion_matrix(y_test, y_pred, classes=['Not Parkinson', 'Parkinson'], normalize = False)\n",
    "# рассчет метрик классификации\n",
    "print(metrics.classification_report(y_test, y_pred))"
   ]
  },
  {
   "cell_type": "code",
   "execution_count": 38,
   "metadata": {},
   "outputs": [
    {
     "name": "stdout",
     "output_type": "stream",
     "text": [
      "Чувствительность:\t 0.8785714285714286\n",
      "Специфичность:\t 0.994535519125683\n"
     ]
    }
   ],
   "source": [
    "# Расчет чувствительности и специфичности модели\n",
    "TN = metrics.confusion_matrix(y_test, y_pred)[0][0]\n",
    "TP = metrics.confusion_matrix(y_test, y_pred)[1][1]\n",
    "FN = metrics.confusion_matrix(y_test, y_pred)[1][0]\n",
    "FP = metrics.confusion_matrix(y_test, y_pred)[0][1]\n",
    "sensitivity = TP / (TP + FN)\n",
    "specificity = TN / (TN + FP)\n",
    "print('Чувствительность:\\t', sensitivity)\n",
    "print('Специфичность:\\t', specificity)"
   ]
  },
  {
   "cell_type": "markdown",
   "metadata": {},
   "source": [
    "### Классификатор на основе SVM"
   ]
  },
  {
   "cell_type": "code",
   "execution_count": 39,
   "metadata": {
    "metadata": {}
   },
   "outputs": [
    {
     "name": "stdout",
     "output_type": "stream",
     "text": [
      "Лучшие параметры:  {'C': 0.30000000000000004, 'degree': 2, 'kernel': 'linear'}\n"
     ]
    }
   ],
   "source": [
    "# выберем с помощью GridSearchCV наилучшие параметры классификатора\n",
    "svm = SVC()\n",
    "\n",
    "param_grid = {\n",
    "    'C': list(np.arange(0.1, 1, 0.1)), # параметр регуляризации\n",
    "    'kernel': ['linear', 'poly', 'rbf', 'sigmoid'], # ядро классификатора\n",
    "    'degree': list(range(2, 5)), # степень для полиноминального ядра\n",
    "    #'gamma': [0.1, 1, 10], # коэффициент ядра\n",
    "}\n",
    "\n",
    "# создадим объект класса и обучим модель на каждом наборе параметров\n",
    "grid_search = GridSearchCV(svm, param_grid, scoring='recall', cv=2)\n",
    "grid_search.fit(X_train, y_train)\n",
    "\n",
    "print('Лучшие параметры: ', grid_search.best_params_)"
   ]
  },
  {
   "cell_type": "code",
   "execution_count": 40,
   "metadata": {
    "metadata": {}
   },
   "outputs": [
    {
     "data": {
      "text/plain": [
       "array([0, 0, 0, 0, 0, 0, 0, 0, 0, 0], dtype=int64)"
      ]
     },
     "execution_count": 40,
     "metadata": {},
     "output_type": "execute_result"
    }
   ],
   "source": [
    "# создаем объект класса и обучаем модель C = 0.3, kernel = 'linear'\n",
    "svm = SVC(C = 0.3, kernel = 'linear')\n",
    "svm.fit(X_train, y_train)\n",
    "# делаем предикты для тестовой выборки\n",
    "y_pred = svm.predict(X_test)\n",
    "y_pred[0:10]"
   ]
  },
  {
   "cell_type": "code",
   "execution_count": 41,
   "metadata": {
    "metadata": {}
   },
   "outputs": [
    {
     "name": "stdout",
     "output_type": "stream",
     "text": [
      "Confusion matrix:\n",
      " [[181   2]\n",
      " [ 18 122]]\n"
     ]
    },
    {
     "data": {
      "image/png": "[encoded data removed]",
      "text/plain": [
       "<Figure size 640x480 with 2 Axes>"
      ]
     },
     "metadata": {},
     "output_type": "display_data"
    },
    {
     "name": "stdout",
     "output_type": "stream",
     "text": [
      "              precision    recall  f1-score   support\n",
      "\n",
      "           0       0.91      0.99      0.95       183\n",
      "           1       0.98      0.87      0.92       140\n",
      "\n",
      "    accuracy                           0.94       323\n",
      "   macro avg       0.95      0.93      0.94       323\n",
      "weighted avg       0.94      0.94      0.94       323\n",
      "\n"
     ]
    }
   ],
   "source": [
    "# строим матрицу несоответствий\n",
    "plot_confusion_matrix(y_test, y_pred, classes=['Not Parkinson', 'Parkinson'], normalize = False)\n",
    "# рассчет метрик классификации\n",
    "print(metrics.classification_report(y_test, y_pred))"
   ]
  },
  {
   "cell_type": "code",
   "execution_count": 42,
   "metadata": {},
   "outputs": [
    {
     "name": "stdout",
     "output_type": "stream",
     "text": [
      "Чувствительность:\t 0.8714285714285714\n",
      "Специфичность:\t 0.9890710382513661\n"
     ]
    }
   ],
   "source": [
    "# Расчет чувствительности и специфичности модели\n",
    "TN = metrics.confusion_matrix(y_test, y_pred)[0][0]\n",
    "TP = metrics.confusion_matrix(y_test, y_pred)[1][1]\n",
    "FN = metrics.confusion_matrix(y_test, y_pred)[1][0]\n",
    "FP = metrics.confusion_matrix(y_test, y_pred)[0][1]\n",
    "sensitivity = TP / (TP + FN)\n",
    "specificity = TN / (TN + FP)\n",
    "print('Чувствительность:\\t', sensitivity)\n",
    "print('Специфичность:\\t', specificity)"
   ]
  },
  {
   "cell_type": "markdown",
   "metadata": {},
   "source": [
    "### Классификатор Random Forest"
   ]
  },
  {
   "cell_type": "code",
   "execution_count": 43,
   "metadata": {
    "metadata": {}
   },
   "outputs": [
    {
     "name": "stdout",
     "output_type": "stream",
     "text": [
      "Лучшие параметры:  {'max_depth': 9, 'max_features': 7, 'min_samples_leaf': 5, 'n_estimators': 9}\n"
     ]
    }
   ],
   "source": [
    "# выберем с помощью GridSearchCV наилучшие параметры классификатора\n",
    "rfc = RandomForestClassifier(random_state=17)\n",
    "\n",
    "param_grid = {\n",
    "    'max_depth': list(range(2,10)),\n",
    "    'max_features': list(range(1,8)),\n",
    "    'min_samples_leaf': list(range (1,11)),\n",
    "    'n_estimators': list(range(2,10))\n",
    "            }\n",
    "\n",
    "# создадим объект класса и обучим модель на каждом наборе параметров\n",
    "grid_search = GridSearchCV(rfc, param_grid, scoring='recall', cv=5)\n",
    "grid_search.fit(X_train, y_train)\n",
    "\n",
    "print('Лучшие параметры: ', grid_search.best_params_)"
   ]
  },
  {
   "cell_type": "code",
   "execution_count": 44,
   "metadata": {
    "metadata": {}
   },
   "outputs": [
    {
     "data": {
      "text/plain": [
       "array([0, 0, 0, 0, 0, 0, 0, 0, 0, 0], dtype=int64)"
      ]
     },
     "execution_count": 44,
     "metadata": {},
     "output_type": "execute_result"
    }
   ],
   "source": [
    "# создаем объект класса и обучаем модель n_estimators=1(2), max_depth=2, max_features=3\n",
    "rfc = RandomForestClassifier(n_estimators=9, max_depth=9, min_samples_leaf=5, max_features=7, random_state=17)\n",
    "rfc.fit(X_train, y_train)\n",
    "# делаем предикты для тестовой выборки\n",
    "y_pred = rfc.predict(X_test)\n",
    "y_pred[0:10]"
   ]
  },
  {
   "cell_type": "code",
   "execution_count": 45,
   "metadata": {
    "metadata": {}
   },
   "outputs": [
    {
     "name": "stdout",
     "output_type": "stream",
     "text": [
      "Confusion matrix:\n",
      " [[182   1]\n",
      " [ 34 106]]\n"
     ]
    },
    {
     "data": {
      "image/png": "[encoded data removed]",
      "text/plain": [
       "<Figure size 640x480 with 2 Axes>"
      ]
     },
     "metadata": {},
     "output_type": "display_data"
    },
    {
     "name": "stdout",
     "output_type": "stream",
     "text": [
      "              precision    recall  f1-score   support\n",
      "\n",
      "           0       0.84      0.99      0.91       183\n",
      "           1       0.99      0.76      0.86       140\n",
      "\n",
      "    accuracy                           0.89       323\n",
      "   macro avg       0.92      0.88      0.89       323\n",
      "weighted avg       0.91      0.89      0.89       323\n",
      "\n"
     ]
    }
   ],
   "source": [
    "# строим матрицу несоответствий\n",
    "plot_confusion_matrix(y_test, y_pred, classes=['Not Parkinson', 'Parkinson'], normalize = False)\n",
    "# рассчет метрик классификации\n",
    "print(metrics.classification_report(y_test, y_pred))"
   ]
  },
  {
   "cell_type": "code",
   "execution_count": 46,
   "metadata": {},
   "outputs": [
    {
     "name": "stdout",
     "output_type": "stream",
     "text": [
      "Чувствительность:\t 0.7571428571428571\n",
      "Специфичность:\t 0.994535519125683\n"
     ]
    }
   ],
   "source": [
    "# Расчет чувствительности и специфичности модели\n",
    "TN = metrics.confusion_matrix(y_test, y_pred)[0][0]\n",
    "TP = metrics.confusion_matrix(y_test, y_pred)[1][1]\n",
    "FN = metrics.confusion_matrix(y_test, y_pred)[1][0]\n",
    "FP = metrics.confusion_matrix(y_test, y_pred)[0][1]\n",
    "sensitivity = TP / (TP + FN)\n",
    "specificity = TN / (TN + FP)\n",
    "print('Чувствительность:\\t', sensitivity)\n",
    "print('Специфичность:\\t', specificity)"
   ]
  },
  {
   "cell_type": "markdown",
   "metadata": {},
   "source": [
    "### Классификатор Дерево решений"
   ]
  },
  {
   "cell_type": "code",
   "execution_count": 47,
   "metadata": {},
   "outputs": [
    {
     "name": "stdout",
     "output_type": "stream",
     "text": [
      "Лучшие параметры:  {'max_depth': 10, 'max_features': 8, 'min_samples_leaf': 2}\n"
     ]
    }
   ],
   "source": [
    "# выберем с помощью GridSearchCV наилучшие параметры классификатора\n",
    "tdc = tree.DecisionTreeClassifier(random_state=42)\n",
    "\n",
    "param_grid = {\n",
    "    'max_depth': range (2,11),\n",
    "    'min_samples_leaf': range (1,11),\n",
    "    'max_features': range (1,9)\n",
    "             }\n",
    "\n",
    "# создадим объект класса и обучим модель на каждом наборе параметров\n",
    "grid_search = GridSearchCV(tdc, param_grid, scoring='recall', cv=5)\n",
    "grid_search.fit(X_train, y_train)\n",
    "\n",
    "print('Лучшие параметры: ', grid_search.best_params_)"
   ]
  },
  {
   "cell_type": "code",
   "execution_count": 48,
   "metadata": {
    "metadata": {}
   },
   "outputs": [
    {
     "data": {
      "text/plain": [
       "array([0, 0, 0, 0, 0, 0, 0, 0, 0, 0], dtype=int64)"
      ]
     },
     "execution_count": 48,
     "metadata": {},
     "output_type": "execute_result"
    }
   ],
   "source": [
    "# создаем объект класса и обучаем модель\n",
    "tdc = tree.DecisionTreeClassifier(max_depth=10, min_samples_leaf=2, max_features=8, random_state=42)\n",
    "tdc.fit(X_train, y_train)\n",
    "# делаем предикты для тестовой выборки\n",
    "y_pred = tdc.predict(X_test)\n",
    "y_pred[0:10]"
   ]
  },
  {
   "cell_type": "code",
   "execution_count": 49,
   "metadata": {
    "metadata": {}
   },
   "outputs": [
    {
     "name": "stdout",
     "output_type": "stream",
     "text": [
      "Confusion matrix:\n",
      " [[160  23]\n",
      " [ 44  96]]\n"
     ]
    },
    {
     "data": {
      "image/png": "[encoded data removed]",
      "text/plain": [
       "<Figure size 640x480 with 2 Axes>"
      ]
     },
     "metadata": {},
     "output_type": "display_data"
    },
    {
     "name": "stdout",
     "output_type": "stream",
     "text": [
      "              precision    recall  f1-score   support\n",
      "\n",
      "           0       0.78      0.87      0.83       183\n",
      "           1       0.81      0.69      0.74       140\n",
      "\n",
      "    accuracy                           0.79       323\n",
      "   macro avg       0.80      0.78      0.78       323\n",
      "weighted avg       0.79      0.79      0.79       323\n",
      "\n"
     ]
    }
   ],
   "source": [
    "# строим матрицу несоответствий\n",
    "plot_confusion_matrix(y_test, y_pred, classes=['Not Parkinson', 'Parkinson'], normalize = False)\n",
    "# рассчет метрик классификации\n",
    "print(metrics.classification_report(y_test, y_pred))"
   ]
  },
  {
   "cell_type": "code",
   "execution_count": 50,
   "metadata": {},
   "outputs": [
    {
     "name": "stdout",
     "output_type": "stream",
     "text": [
      "Чувствительность:\t 0.6857142857142857\n",
      "Специфичность:\t 0.8743169398907104\n"
     ]
    }
   ],
   "source": [
    "# Расчет чувствительности и специфичности модели\n",
    "TN = metrics.confusion_matrix(y_test, y_pred)[0][0]\n",
    "TP = metrics.confusion_matrix(y_test, y_pred)[1][1]\n",
    "FN = metrics.confusion_matrix(y_test, y_pred)[1][0]\n",
    "FP = metrics.confusion_matrix(y_test, y_pred)[0][1]\n",
    "sensitivity = TP / (TP + FN)\n",
    "specificity = TN / (TN + FP)\n",
    "print('Чувствительность:\\t', sensitivity)\n",
    "print('Специфичность:\\t', specificity)"
   ]
  },
  {
   "cell_type": "markdown",
   "metadata": {},
   "source": [
    "### Классификатор на основе LDA"
   ]
  },
  {
   "cell_type": "code",
   "execution_count": 51,
   "metadata": {
    "metadata": {}
   },
   "outputs": [
    {
     "data": {
      "text/plain": [
       "array([0, 0, 0, 0, 0, 0, 0, 0, 0, 0], dtype=int64)"
      ]
     },
     "execution_count": 51,
     "metadata": {},
     "output_type": "execute_result"
    }
   ],
   "source": [
    "# создаем объект класса и обучаем модель\n",
    "lda = LinearDiscriminantAnalysis(solver='svd')\n",
    "lda.fit(X_train, y_train)\n",
    "# делаем предикты для тестовой выборки\n",
    "y_pred = lda.predict(X_test)\n",
    "y_pred[0:10]"
   ]
  },
  {
   "cell_type": "code",
   "execution_count": 52,
   "metadata": {
    "metadata": {}
   },
   "outputs": [
    {
     "name": "stdout",
     "output_type": "stream",
     "text": [
      "Confusion matrix:\n",
      " [[182   1]\n",
      " [ 19 121]]\n"
     ]
    },
    {
     "data": {
      "image/png": "[encoded data removed]",
      "text/plain": [
       "<Figure size 640x480 with 2 Axes>"
      ]
     },
     "metadata": {},
     "output_type": "display_data"
    },
    {
     "name": "stdout",
     "output_type": "stream",
     "text": [
      "              precision    recall  f1-score   support\n",
      "\n",
      "           0       0.91      0.99      0.95       183\n",
      "           1       0.99      0.86      0.92       140\n",
      "\n",
      "    accuracy                           0.94       323\n",
      "   macro avg       0.95      0.93      0.94       323\n",
      "weighted avg       0.94      0.94      0.94       323\n",
      "\n"
     ]
    }
   ],
   "source": [
    "# строим матрицу несоответствий\n",
    "plot_confusion_matrix(y_test, y_pred, classes=['Not Parkinson', 'Parkinson'], normalize = False)\n",
    "# рассчет метрик классификации\n",
    "print(metrics.classification_report(y_test, y_pred))"
   ]
  },
  {
   "cell_type": "code",
   "execution_count": 53,
   "metadata": {},
   "outputs": [
    {
     "name": "stdout",
     "output_type": "stream",
     "text": [
      "Чувствительность:\t 0.8642857142857143\n",
      "Специфичность:\t 0.994535519125683\n"
     ]
    }
   ],
   "source": [
    "# Расчет чувствительности и специфичности модели\n",
    "TN = metrics.confusion_matrix(y_test, y_pred)[0][0]\n",
    "TP = metrics.confusion_matrix(y_test, y_pred)[1][1]\n",
    "FN = metrics.confusion_matrix(y_test, y_pred)[1][0]\n",
    "FP = metrics.confusion_matrix(y_test, y_pred)[0][1]\n",
    "sensitivity = TP / (TP + FN)\n",
    "specificity = TN / (TN + FP)\n",
    "print('Чувствительность:\\t', sensitivity)\n",
    "print('Специфичность:\\t', specificity)"
   ]
  },
  {
   "cell_type": "markdown",
   "metadata": {},
   "source": [
    "### Байесовский классификатор"
   ]
  },
  {
   "cell_type": "code",
   "execution_count": 54,
   "metadata": {
    "metadata": {}
   },
   "outputs": [
    {
     "data": {
      "text/plain": [
       "array([0, 1, 1, 1, 1, 0, 1, 0, 0, 0], dtype=int64)"
      ]
     },
     "execution_count": 54,
     "metadata": {},
     "output_type": "execute_result"
    }
   ],
   "source": [
    "# создаем объект класса и обучаем модель\n",
    "gnb = GaussianNB()\n",
    "gnb.fit(X_train, y_train)\n",
    "# делаем предикты для тестовой выборки\n",
    "y_pred = gnb.predict(X_test)\n",
    "y_pred[0:10]"
   ]
  },
  {
   "cell_type": "code",
   "execution_count": 55,
   "metadata": {
    "metadata": {}
   },
   "outputs": [
    {
     "name": "stdout",
     "output_type": "stream",
     "text": [
      "Confusion matrix:\n",
      " [[153  30]\n",
      " [ 45  95]]\n"
     ]
    },
    {
     "data": {
      "image/png": "[encoded data removed]",
      "text/plain": [
       "<Figure size 640x480 with 2 Axes>"
      ]
     },
     "metadata": {},
     "output_type": "display_data"
    },
    {
     "name": "stdout",
     "output_type": "stream",
     "text": [
      "              precision    recall  f1-score   support\n",
      "\n",
      "           0       0.77      0.84      0.80       183\n",
      "           1       0.76      0.68      0.72       140\n",
      "\n",
      "    accuracy                           0.77       323\n",
      "   macro avg       0.77      0.76      0.76       323\n",
      "weighted avg       0.77      0.77      0.77       323\n",
      "\n"
     ]
    }
   ],
   "source": [
    "# строим матрицу несоответствий\n",
    "plot_confusion_matrix(y_test, y_pred, classes=['Not Parkinson', 'Parkinson'], normalize = False)\n",
    "# рассчет метрик классификации\n",
    "print(metrics.classification_report(y_test, y_pred))"
   ]
  },
  {
   "cell_type": "code",
   "execution_count": 56,
   "metadata": {},
   "outputs": [
    {
     "name": "stdout",
     "output_type": "stream",
     "text": [
      "Чувствительность:\t 0.6785714285714286\n",
      "Специфичность:\t 0.8360655737704918\n"
     ]
    }
   ],
   "source": [
    "# Расчет чувствительности и специфичности модели\n",
    "TN = metrics.confusion_matrix(y_test, y_pred)[0][0]\n",
    "TP = metrics.confusion_matrix(y_test, y_pred)[1][1]\n",
    "FN = metrics.confusion_matrix(y_test, y_pred)[1][0]\n",
    "FP = metrics.confusion_matrix(y_test, y_pred)[0][1]\n",
    "sensitivity = TP / (TP + FN)\n",
    "specificity = TN / (TN + FP)\n",
    "print('Чувствительность:\\t', sensitivity)\n",
    "print('Специфичность:\\t', specificity)"
   ]
  }
 ],
 "metadata": {
  "kernelspec": {
   "display_name": "Python 3",
   "language": "python",
   "name": "python3"
  },
  "language_info": {
   "codemirror_mode": {
    "name": "ipython",
    "version": 3
   },
   "file_extension": ".py",
   "mimetype": "text/x-python",
   "name": "python",
   "nbconvert_exporter": "python",
   "pygments_lexer": "ipython3",
   "version": "3.11.9"
  }
 },
 "nbformat": 4,
 "nbformat_minor": 2
}
