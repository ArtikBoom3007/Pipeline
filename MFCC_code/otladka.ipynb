{
 "cells": [
  {
   "cell_type": "markdown",
   "metadata": {},
   "source": [
    "### Отладка libmfcc"
   ]
  },
  {
   "cell_type": "code",
   "execution_count": 1,
   "metadata": {},
   "outputs": [],
   "source": [
    "import scipy.io.wavfile as wav\n",
    "import numpy as np\n",
    "import pandas as pd\n",
    "from python_speech_features import mfcc\n",
    "from python_speech_features import logfbank\n",
    "import matplotlib.pyplot as plt\n",
    "import csv\n",
    "import os"
   ]
  },
  {
   "cell_type": "code",
   "execution_count": 2,
   "metadata": {},
   "outputs": [
    {
     "name": "stdout",
     "output_type": "stream",
     "text": [
      "../../Data/Augment_Audio/Train/HC/echo_ID00_hc_0_0_0 (mp3cut.net) (1).wav_fragment_0.wav\n"
     ]
    }
   ],
   "source": [
    "# директория отладочного аудио\n",
    "\n",
    "augment_dir_train = \"../../Data/Augment_Audio/Train\"\n",
    "hc_aug_train = augment_dir_train + \"/HC\"\n",
    "pd_aug_train = augment_dir_train + \"/PD\"\n",
    "\n",
    "hc_files_train = [filename for filename in os.listdir(hc_aug_train) if filename.endswith(\".wav\")]\n",
    "pd_files_train = [filename for filename in os.listdir(pd_aug_train) if filename.endswith(\".wav\")]\n",
    "test_audio = f'{hc_aug_train}/{hc_files_train[0]}'\n",
    "print(test_audio)"
   ]
  },
  {
   "cell_type": "code",
   "execution_count": 63,
   "metadata": {},
   "outputs": [
    {
     "name": "stdout",
     "output_type": "stream",
     "text": [
      "[[13.29690448 12.24520293  9.53826025  2.40371612  0.38046238 -0.82244048\n",
      "  -2.95743744 -1.39973666 -2.49231894 -0.12872186 -0.28082376  0.53370805\n",
      "   0.66724885]]\n",
      "(1, 13)\n"
     ]
    }
   ],
   "source": [
    "(rate,sig) = wav.read(test_audio)\n",
    "winlen = 0.025\n",
    "winstep = 0.025\n",
    "numcep = 13\n",
    "nfilt = 48\n",
    "nfft = 552\n",
    "preemph = 0\n",
    "ceplifter = 0\n",
    "#winfunc=np.hamming\n",
    "mfcc_feat = mfcc(sig[0:1103], rate, winlen, winstep, numcep, nfilt, nfft, preemph = 0, ceplifter = 0)\n",
    "#fbank_feat = logfbank(sig,rate)\n",
    "\n",
    "print(mfcc_feat)\n",
    "print(mfcc_feat.shape)\n",
    "#print(fbank_feat[1:3,:])"
   ]
  },
  {
   "cell_type": "code",
   "execution_count": 13,
   "metadata": {},
   "outputs": [
    {
     "data": {
      "text/plain": [
       "array([-19, -26, -25, -25, -30, -29, -32, -36, -29, -35, -36, -35, -37,\n",
       "       -38, -37, -40, -40, -41, -38, -40, -44, -41, -41, -37, -36, -39,\n",
       "       -30, -25, -30, -27, -24, -20, -23, -15, -16, -18, -11, -10,  -6,\n",
       "        -4,   3,   0,   4,  10,  10,  11,  11,  14,  20,  20,  25,  25,\n",
       "        27,  30,  26,  29,  30,  35,  36,  37,  35,  36,  35,  41,  36,\n",
       "        30,  38,  38,  40,  35,  38,  37,  38,  40,  33,  29,  34,  35,\n",
       "        30,  34,  32,  32,  30,  28,  23,  29,  31,  26,  29,  30,  27,\n",
       "        25,  32,  25,  23,  27,  27,  27,  26,  26,  24,  26,  29,  27,\n",
       "        23,  22,  22,  20,  17,  16,  17,  16,  16,  18,  14,  14,  15,\n",
       "         9,   7,  12,  11,   7,   4,   7,   5], dtype=int16)"
      ]
     },
     "execution_count": 13,
     "metadata": {},
     "output_type": "execute_result"
    }
   ],
   "source": [
    "sig[0:125]"
   ]
  },
  {
   "cell_type": "code",
   "execution_count": 8,
   "metadata": {},
   "outputs": [
    {
     "data": {
      "text/plain": [
       "(220500,)"
      ]
     },
     "execution_count": 8,
     "metadata": {},
     "output_type": "execute_result"
    }
   ],
   "source": [
    "sig.shape"
   ]
  }
 ],
 "metadata": {
  "kernelspec": {
   "display_name": "py311",
   "language": "python",
   "name": "python3"
  },
  "language_info": {
   "codemirror_mode": {
    "name": "ipython",
    "version": 3
   },
   "file_extension": ".py",
   "mimetype": "text/x-python",
   "name": "python",
   "nbconvert_exporter": "python",
   "pygments_lexer": "ipython3",
   "version": "3.11.9"
  }
 },
 "nbformat": 4,
 "nbformat_minor": 2
}
